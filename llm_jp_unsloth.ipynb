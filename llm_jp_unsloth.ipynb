{
  "cells": [
    {
      "cell_type": "markdown",
      "metadata": {
        "id": "view-in-github",
        "colab_type": "text"
      },
      "source": [
        "<a href=\"https://colab.research.google.com/github/tshigata/LLM_Final/blob/main/llm_jp_unsloth.ipynb\" target=\"_parent\"><img src=\"https://colab.research.google.com/assets/colab-badge.svg\" alt=\"Open In Colab\"/></a>"
      ]
    },
    {
      "cell_type": "markdown",
      "metadata": {
        "id": "Y7Wdw0O6o2xa"
      },
      "source": [
        "# 最終課題コンペ用 Fine-tuning テンプレート（unsloth）\n",
        "\n"
      ]
    },
    {
      "cell_type": "code",
      "execution_count": 1,
      "metadata": {
        "colab": {
          "base_uri": "https://localhost:8080/"
        },
        "id": "dn-JPKCG1Jgz",
        "outputId": "3730a743-cf1d-415f-fba2-101e21a65c7a"
      },
      "outputs": [
        {
          "output_type": "stream",
          "name": "stdout",
          "text": [
            "Drive already mounted at /content/drive; to attempt to forcibly remount, call drive.mount(\"/content/drive\", force_remount=True).\n"
          ]
        }
      ],
      "source": [
        "import os\n",
        "from datetime import datetime\n",
        "from google.colab import drive\n",
        "\n",
        "drive.mount('/content/drive')"
      ]
    },
    {
      "cell_type": "code",
      "source": [
        "base_model_id = \"llm-jp/llm-jp-3-13b\"\n",
        "model_name = \"llm-jp-3-13b\"\n",
        "# ベースパス\n",
        "base_path = \"/content/drive/MyDrive/LLM/_最終課題/\"\n",
        "%cd $base_path\n",
        "%ls"
      ],
      "metadata": {
        "colab": {
          "base_uri": "https://localhost:8080/"
        },
        "id": "pW7rBX0NkfeC",
        "outputId": "22785f65-bfc1-44c3-88b5-03e5737e220d"
      },
      "execution_count": 2,
      "outputs": [
        {
          "output_type": "stream",
          "name": "stdout",
          "text": [
            "/content/drive/MyDrive/LLM/_最終課題\n",
            " \u001b[0m\u001b[01;36m05.最終課題\u001b[0m@\n",
            " elyza-tasks-100-TV_0.jsonl\n",
            " Eval.ipynb\n",
            " \u001b[01;34mFine-Tuning\u001b[0m/\n",
            "'Gemma2 で ELYZA-tasks-100 を解いて Gemini-1.5-Flash で評価して人間の評価と比較する のコピー'\n",
            " ichikara-instruction-003-001-1.json\n",
            " \u001b[01;34minstruction\u001b[0m/\n",
            " \u001b[01;34moutput\u001b[0m/\n",
            " \u001b[01;34mOzaki\u001b[0m/\n",
            " \u001b[01;34mSample_Code\u001b[0m/\n",
            " \u001b[01;34msrc\u001b[0m/\n",
            " submissions_llm-jp-11-24-3.01.jsonl\n",
            " スコア.gsheet\n"
          ]
        }
      ]
    },
    {
      "cell_type": "code",
      "execution_count": 3,
      "metadata": {
        "colab": {
          "base_uri": "https://localhost:8080/"
        },
        "id": "NeKrhsB3Q_3H",
        "outputId": "67ae5826-9d1f-4c9e-df4f-75929c205fec"
      },
      "outputs": [
        {
          "output_type": "stream",
          "name": "stdout",
          "text": [
            "  Installing build dependencies ... \u001b[?25l\u001b[?25hdone\n",
            "  Getting requirements to build wheel ... \u001b[?25l\u001b[?25hdone\n",
            "  Preparing metadata (pyproject.toml) ... \u001b[?25l\u001b[?25hdone\n",
            "  Building wheel for unsloth (pyproject.toml) ... \u001b[?25l\u001b[?25hdone\n"
          ]
        }
      ],
      "source": [
        "# Google Colab の場合は上記の環境構築手順を行なわず、単にこのセルから実行していってください。\n",
        "!pip uninstall -qqq unsloth -y\n",
        "!pip install -qqq --upgrade --no-cache-dir \"unsloth[colab-new] @ git+https://github.com/unslothai/unsloth.git\""
      ]
    },
    {
      "cell_type": "code",
      "execution_count": 4,
      "metadata": {
        "id": "knPVRpxkXSNW"
      },
      "outputs": [],
      "source": [
        "# Google Colab のデフォルトで入っているパッケージをアップグレード（Moriyasu さんありがとうございます）\n",
        "!pip install -qqq --upgrade torch\n",
        "!pip install -qqq --upgrade xformers"
      ]
    },
    {
      "cell_type": "code",
      "execution_count": 5,
      "metadata": {
        "id": "kAKC2CnIkEgO"
      },
      "outputs": [],
      "source": [
        "# notebookでインタラクティブな表示を可能とする（ただし、うまく動かない場合あり）\n",
        "# Google Colabでは実行不要\n",
        "# !pip install -qqq ipywidgets --upgrade"
      ]
    },
    {
      "cell_type": "code",
      "execution_count": 6,
      "metadata": {
        "id": "6-t3HhxN8joX"
      },
      "outputs": [],
      "source": [
        "# Install Flash Attention 2 for softcapping support\n",
        "import torch\n",
        "if torch.cuda.get_device_capability()[0] >= 8:\n",
        "    !pip install --no-deps packaging ninja einops \"flash-attn>=2.6.3\""
      ]
    },
    {
      "cell_type": "markdown",
      "metadata": {
        "id": "g36yt62mj_-5"
      },
      "source": [
        "## モデルのロード\n",
        "以下のコードでモデルを読み込みます。  \n",
        "受講生の方からご指摘頂いたのですが、unslothでgemma2を読み込むと、自動でunslothが作成した非公式モデルがダウンロードされるようです。  \n",
        "対処方法がわからない受講生はLLM-jp-3のみをご利用ください！  "
      ]
    },
    {
      "cell_type": "code",
      "execution_count": 7,
      "metadata": {
        "id": "WAaS0RKXgG72"
      },
      "outputs": [],
      "source": [
        "from google.colab import userdata\n",
        "HF_TOKEN=userdata.get('HF_TOKEN')"
      ]
    },
    {
      "cell_type": "code",
      "execution_count": 8,
      "metadata": {
        "id": "Sc4KlA0NmQmS"
      },
      "outputs": [],
      "source": [
        "# wandb_api_key = userdata.get('WANDB_API_KEY')\n",
        "# !wandb login $wandb_api_key"
      ]
    },
    {
      "cell_type": "code",
      "execution_count": 9,
      "metadata": {
        "id": "U3MrOyK8jm39"
      },
      "outputs": [],
      "source": [
        "import os\n",
        "# os.environ[\"WANDB_PROJECT\"] = \"llm-final\"  # W&Bプロジェクトの名前を指定\n",
        "#os.environ[\"WANDB_LOG_MODEL\"] = \"checkpoint\"  # すべてのモデルチェックポイントをログ"
      ]
    },
    {
      "cell_type": "code",
      "execution_count": 10,
      "metadata": {
        "colab": {
          "base_uri": "https://localhost:8080/"
        },
        "id": "gft7ghATMAy6",
        "outputId": "f5b90aa4-17ec-4ad4-c809-72a696c10ebc"
      },
      "outputs": [
        {
          "output_type": "stream",
          "name": "stdout",
          "text": [
            "base model: llm-jp/llm-jp-3-13b\n",
            "new model: llm-jp-3-13b-1203_2209\n"
          ]
        }
      ],
      "source": [
        "from datetime import datetime  # 日付取得用\n",
        "from pytz import timezone\n",
        "\n",
        "# 日本時間を設定\n",
        "jst = timezone('Asia/Tokyo')\n",
        "\n",
        "# 現在の日付を取得してフォーマット\n",
        "today_date = datetime.now(jst).strftime(\"%m-%d\")  # MM-DD形式\n",
        "today_date_time = datetime.now(jst).strftime(\"%m%d_%H%M\")  # MM-DD形式\n",
        "\n",
        "new_model_id = f\"{model_name}-{today_date_time}\"  # NEWモデル名\n",
        "\n",
        "print(f\"base model: {base_model_id}\")\n",
        "print(f\"new model: {new_model_id}\")"
      ]
    },
    {
      "cell_type": "code",
      "execution_count": 11,
      "metadata": {
        "colab": {
          "base_uri": "https://localhost:8080/"
        },
        "id": "aImZj7KFNh1e",
        "outputId": "59298edc-4718-4cfc-d526-1f9ecd9fbd1b"
      },
      "outputs": [
        {
          "output_type": "stream",
          "name": "stdout",
          "text": [
            "フォルダを作成しました: /content/drive/MyDrive/LLM/_最終課題/output/1203_2209\n"
          ]
        }
      ],
      "source": [
        "# 今日の日付をフォーマットしてフォルダ名を生成\n",
        "current_folder = os.path.join(base_path, f\"output/{today_date_time}\")\n",
        "\n",
        "# フォルダの存在を確認し、無ければ作成\n",
        "if not os.path.exists(current_folder):\n",
        "    os.makedirs(current_folder)\n",
        "    print(f\"フォルダを作成しました: {current_folder}\")\n",
        "else:\n",
        "    print(f\"フォルダは既に存在します: {current_folder}\")\n"
      ]
    },
    {
      "cell_type": "code",
      "source": [
        "%cd $current_folder\n",
        "%ls"
      ],
      "metadata": {
        "colab": {
          "base_uri": "https://localhost:8080/"
        },
        "id": "vTB6kr8sopou",
        "outputId": "700de1d7-47a2-45bf-8e86-de9b2cb66802"
      },
      "execution_count": 12,
      "outputs": [
        {
          "output_type": "stream",
          "name": "stdout",
          "text": [
            "/content/drive/MyDrive/LLM/_最終課題/output/1203_2209\n"
          ]
        }
      ]
    },
    {
      "cell_type": "code",
      "execution_count": 13,
      "metadata": {
        "colab": {
          "base_uri": "https://localhost:8080/",
          "height": 371,
          "referenced_widgets": [
            "2b66e3b104324952a3e0e09883f217e0",
            "a407a09bbb3a497f8c64a3a29ada74de",
            "b658d293efbb452ba7d38bb8e8a29e43",
            "4189f16a27b14c428d7d134ab4b7e250",
            "bac70c49d6ae4b41a87d360695bfef84",
            "fa40e9ad487d4126b70548a6fd95a602",
            "fabe78bd3bfc4a2ba138022b7cd7fa1a",
            "c97322c4ca414285ab9f0ac62f24b06a",
            "89f2983eb80b45d4ab80b6a2f1b8b2df",
            "58f9c9f1061342da99d5e211b28bde56",
            "08b4b12b120945de815bc53bc3a59a5f",
            "38eb8a3574a34e3997cc1933dd7b8b3a",
            "a7563c83917548f1ae807201136643f0",
            "811a95d4b25d45299b40eb91c4aa75fa",
            "579c04afea2340ecbba4c6b9f186bc26",
            "b4e119129f1547d49861655ed7466139",
            "b03ed227e4a94a7b94d68ce0033877b5",
            "1816fab7099a4a21aedbd55c1feb532d",
            "46852e4eb86e49f5bbd4f03a0b126e39",
            "ada1549ebcc64345aaec56ba011b635b",
            "6eb07eb5e7ce48728090945e55b6b000",
            "11feb7ec001e4c0c94c8ea611ef6e654",
            "2f611272a41a44eba708ffcd8104f579",
            "6bba661c12ee41baa1efa2c405d3afdb",
            "688b93dbf4a84b19a00fc2a905ed54d8",
            "608ca5a40b084b3bbc82cb3fea2cc920",
            "fc0dfa2970d74d57bb964bd09877f7c1",
            "1a3b2a540b0f4ea8be8c73788f1fbc50",
            "df5cc5c434774451ae1bb54bfb1927ae",
            "121e02e12cc9414388898668245cfb9d",
            "5367f97fcec445aeb2d032b23fd9599c",
            "28afee5859cf4d808bc4159d40a72131",
            "77fc605413f3418fbed03729562b8f5b",
            "bcb460175961412cb9c4f1316ed255d0",
            "08e66bca40e44297bf16a1a3f08903e3",
            "dec8dfe4ec6f4aa7bf2e7c6febd7af59",
            "2c01fa3972184503b4f8e8c4ce80529b",
            "98a1a1a3e1214bfc81812c128c79c4bb",
            "c2015df4b715441c8afbd68c66f42da7",
            "09aea73adab04f489c7decac4b3d656d",
            "70f085ca44b44f129438660ae5abc48d",
            "dcbc226bb03841f4907c6af9c3dec836",
            "02fb76b524ad443e9eabc0a15c8f0280",
            "4b34069c244f420cb75cc475abfaa02c"
          ]
        },
        "id": "LbmtYWUH8p_J",
        "outputId": "9953f81c-4acc-4f8b-8404-026ce6e6c447"
      },
      "outputs": [
        {
          "metadata": {
            "tags": null
          },
          "name": "stdout",
          "output_type": "stream",
          "text": [
            "🦥 Unsloth: Will patch your computer to enable 2x faster free finetuning.\n",
            "🦥 Unsloth Zoo will now patch everything to make training faster!\n",
            "Unsloth: WARNING `trust_remote_code` is True.\n",
            "Are you certain you want to do remote code execution?\n",
            "==((====))==  Unsloth 2024.11.10: Fast Llama patching. Transformers:4.46.2.\n",
            "   \\\\   /|    GPU: Tesla T4. Max memory: 14.748 GB. Platform: Linux.\n",
            "O^O/ \\_/ \\    Torch: 2.5.1+cu121. CUDA: 7.5. CUDA Toolkit: 12.1. Triton: 3.1.0\n",
            "\\        /    Bfloat16 = FALSE. FA [Xformers = 0.0.28.post3. FA2 = False]\n",
            " \"-____-\"     Free Apache license: http://github.com/unslothai/unsloth\n",
            "Unsloth: Fast downloading is enabled - ignore downloading bars which are red colored!\n"
          ]
        },
        {
          "data": {
            "application/vnd.jupyter.widget-view+json": {
              "model_id": "2b66e3b104324952a3e0e09883f217e0",
              "version_major": 2,
              "version_minor": 0
            },
            "text/plain": [
              "Loading checkpoint shards:   0%|          | 0/6 [00:00<?, ?it/s]"
            ]
          },
          "metadata": {},
          "output_type": "display_data"
        },
        {
          "output_type": "display_data",
          "data": {
            "text/plain": [
              "tokenizer_config.json:   0%|          | 0.00/494 [00:00<?, ?B/s]"
            ],
            "application/vnd.jupyter.widget-view+json": {
              "version_major": 2,
              "version_minor": 0,
              "model_id": "38eb8a3574a34e3997cc1933dd7b8b3a"
            }
          },
          "metadata": {}
        },
        {
          "output_type": "display_data",
          "data": {
            "text/plain": [
              "tokenizer.json:   0%|          | 0.00/6.42M [00:00<?, ?B/s]"
            ],
            "application/vnd.jupyter.widget-view+json": {
              "version_major": 2,
              "version_minor": 0,
              "model_id": "2f611272a41a44eba708ffcd8104f579"
            }
          },
          "metadata": {}
        },
        {
          "output_type": "display_data",
          "data": {
            "text/plain": [
              "special_tokens_map.json:   0%|          | 0.00/237 [00:00<?, ?B/s]"
            ],
            "application/vnd.jupyter.widget-view+json": {
              "version_major": 2,
              "version_minor": 0,
              "model_id": "bcb460175961412cb9c4f1316ed255d0"
            }
          },
          "metadata": {}
        },
        {
          "output_type": "stream",
          "name": "stderr",
          "text": [
            "Unsloth: Dropout = 0 is supported for fast patching. You are using dropout = 0.05.\n",
            "Unsloth will patch all other layers, except LoRA matrices, causing a performance hit.\n",
            "Unsloth 2024.11.10 patched 40 layers with 0 QKV layers, 0 O layers and 0 MLP layers.\n"
          ]
        }
      ],
      "source": [
        "# llm-jp/llm-jp-3-13bを4bit量子化のqLoRA設定でロード。\n",
        "from unsloth import FastLanguageModel\n",
        "import torch\n",
        "\n",
        "max_seq_length = 2048 # unslothではRoPEをサポートしているのでコンテキスト長は自由に設定可能\n",
        "dtype = None # Noneにしておけば自動で設定\n",
        "load_in_4bit = True # 今回は13Bモデルを扱うためTrue\n",
        "\n",
        "# FastLanguageModel インスタンスを作成\n",
        "model, tokenizer = FastLanguageModel.from_pretrained(\n",
        "    model_name=base_model_id,\n",
        "    dtype=dtype,\n",
        "    load_in_4bit=load_in_4bit,\n",
        "    trust_remote_code=True,\n",
        ")\n",
        "\n",
        "# SFT用のモデルを用意\n",
        "model = FastLanguageModel.get_peft_model(\n",
        "    model,\n",
        "    r = 32, #16, #8, #32,\n",
        "    target_modules = [\"q_proj\", \"k_proj\", \"v_proj\", \"o_proj\",\n",
        "                      \"gate_proj\", \"up_proj\", \"down_proj\",],\n",
        "    lora_alpha = 32, #16, #32,\n",
        "    lora_dropout = 0.05,\n",
        "    bias = \"none\",\n",
        "    use_gradient_checkpointing = \"unsloth\",\n",
        "    random_state = 3711,\n",
        "    use_rslora = False, #True, #False,\n",
        "    loftq_config = None,\n",
        "    max_seq_length = max_seq_length,\n",
        ")"
      ]
    },
    {
      "cell_type": "code",
      "source": [
        "!pip install -qqq datasets"
      ],
      "metadata": {
        "id": "ONWgMz_bcVnE"
      },
      "execution_count": 14,
      "outputs": []
    },
    {
      "cell_type": "code",
      "source": [
        "prompt_template = \"\"\"### 指示\n",
        "{}\n",
        "### 回答\n",
        "{}\"\"\""
      ],
      "metadata": {
        "id": "ZY_sj7nihEmd"
      },
      "execution_count": 15,
      "outputs": []
    },
    {
      "cell_type": "code",
      "execution_count": 16,
      "metadata": {
        "id": "7F3gNoQs3i3g"
      },
      "outputs": [],
      "source": [
        "from datasets import load_dataset, concatenate_datasets\n",
        "\n",
        "# Ichikara データセット\n",
        "INSTRUCT_FILES = f\"{base_path}/instruction/ichikara-instruction-003-001-1.json\"\n",
        "# INSTRUCT_FILES = [\"../instruction/ichikara-instruction-003-001-1.json\", \"../instruction/ichikara-instruction-003-002-1.json\"]\n",
        "ichikara_dataset = load_dataset(\"json\", data_files=INSTRUCT_FILES)"
      ]
    },
    {
      "cell_type": "code",
      "source": [
        "geniac_full = load_dataset(\"weblab-GENIAC/Open-Platypus-Japanese-masked\")\n",
        "\n",
        "# 先頭から5000件を選択\n",
        "geniac_dataset = geniac_full[\"train\"].select(range(10000))\n",
        "\n",
        "geniac_dataset[1]"
      ],
      "metadata": {
        "colab": {
          "base_uri": "https://localhost:8080/"
        },
        "id": "Gy3pirPvcT6P",
        "outputId": "2484b167-3d31-4807-c82d-accdb2d68255"
      },
      "execution_count": 17,
      "outputs": [
        {
          "output_type": "execute_result",
          "data": {
            "text/plain": [
              "{'idx': 1,\n",
              " 'instruction_en': 'The graph of $y=ax^2+bx+c$ passes through points $(0,5)$, $(1,10)$, and $(2,19)$. Find $a+b+c$.',\n",
              " 'response_en': \"That means I can plug in the coordinates of each point into the equation and get a system of three equations with three unknowns. For example, using the point $(0,5)$, I get $5=a\\\\cdot 0^2+b\\\\cdot 0+c$, which simplifies to $c=5$. Using the point $(1,10)$, I get $10=a\\\\cdot 1^2+b\\\\cdot 1+5$, which simplifies to $a+b=5$. Using the point $(2,19)$, I get $19=a\\\\cdot 2^2+b\\\\cdot 2+5$, which simplifies to $4a+2b=14$. Now I have a system of two equations with two unknowns: $a+b=5$ and $4a+2b=14$. I can use elimination to solve this system by multiplying the first equation by $-2$ and adding it to the second equation. That gives me $-2a-2b=-10$ and $4a+2b=14$, which add up to $2a=4$. Therefore, $a=2$. To find $b$, I can plug in $a=2$ into either equation. I'll use the first one: $2+b=5$, which implies $b=3$. Now I have $a=2$, $b=3$, and $c=5$. To find $a+b+c$, I just need to add them up: $2+3+5=10$. \",\n",
              " 'translation_model': 'cyberagent/calm3-22b-chat',\n",
              " 'instruction': '関数 \\\\( y = ax^2 + bx + c \\\\) のグラフが点 \\\\((0,5)\\\\)、\\\\((1,10)\\\\)、および \\\\((2,19)\\\\) を通る場合、\\\\(a + b + c\\\\) の値を求めなさい。',\n",
              " 'response': 'まず、各点の座標を関数の方程式に代入して、3つの方程式からなるシステムを得ます。例えば、点 \\\\((0,5)\\\\) を使うと、\\\\(5 = a \\\\cdot 0^2 + b \\\\cdot 0 + c\\\\) となり、これは \\\\(c = 5\\\\) を意味します。次に、点 \\\\((1,10)\\\\) を使うと、\\\\(10 = a \\\\cdot 1^2 + b \\\\cdot 1 + 5\\\\) となり、これは \\\\(a + b = 5\\\\) を意味します。さらに、点 \\\\((2,19)\\\\) を使うと、\\\\(19 = a \\\\cdot 2^2 + b \\\\cdot 2 + 5\\\\) となり、これは \\\\(4a + 2b = 14\\\\) を意味します。これで、2つの変数 \\\\(a\\\\) と \\\\(b\\\\) を含む2つの方程式が得られました。次に、これらの方程式を使って \\\\(a\\\\) と \\\\(b\\\\) を求めます。まず、1つ目の方程式 \\\\(a + b = 5\\\\) を4倍して、2つ目の方程式 \\\\(4a + 2b = 14\\\\) から引きます。すると、\\\\(-2a - 2b = -10\\\\) と \\\\(4a + 2b = 14\\\\) となり、これらを加えると \\\\(2a = 4\\\\) となります。したがって、\\\\(a = 2\\\\) です。次に、\\\\(a = 2\\\\) を1つ目の方程式に代入すると、\\\\(2 + b = 5\\\\) となり、\\\\(b = 3\\\\) です。これで、\\\\(a = 2\\\\)、\\\\(b = 3\\\\)、および \\\\(c = 5\\\\) が得られました。最後に、\\\\(a + b + c\\\\) を求めます。これは \\\\(2 + 3 + 5 = 10\\\\) です。',\n",
              " 'data_source': 'MATH/PRM-800K',\n",
              " 'translation_prompt': \"「### 質問 ### 答え」の形式で日本語に翻訳してください。\\n### Question\\n{record['input']}{record['instruction']}\\n\\n### Answer\\n{record['output']}\"}"
            ]
          },
          "metadata": {},
          "execution_count": 17
        }
      ]
    },
    {
      "cell_type": "code",
      "source": [
        "def format_geniac(examples):\n",
        "    text = tokenizer.bos_token + prompt_template.format(\n",
        "        examples[\"instruction\"],\n",
        "        examples[\"response\"]\n",
        "    ) + tokenizer.eos_token\n",
        "    return {\"formatted_text\": text}\n",
        "\n",
        "geniac_formatted = geniac_dataset.map(\n",
        "    format_geniac,\n",
        "    num_proc=4,\n",
        ")\n",
        "geniac_formatted[\"formatted_text\"][1]"
      ],
      "metadata": {
        "colab": {
          "base_uri": "https://localhost:8080/",
          "height": 154,
          "referenced_widgets": [
            "926bdd973e67443098452d13af5e230e",
            "cb754a72f44d4a30a90900d1c9eec34d",
            "e558ad4e43304db7a6cabb7cce1e15a6",
            "50f7b04c797d4f47a7271614507dab36",
            "0cd2e3a5a5f743b3bedb0daf02a346cf",
            "5e8ab5d1bd1b470a992d416062a4c6a1",
            "fe36e72e46ea4522839feead3f7f0b86",
            "b534b3db13414eae8cbadb990f59663f",
            "63934b1042b24ad485274f3b8963bd33",
            "99fc450ed50d4e6ca49812cf991269fa",
            "6638cafcbedd4e4daf07f949b929b10f"
          ]
        },
        "id": "LW8tDjeJhJ6_",
        "outputId": "b649f691-0876-48b5-9189-eb7e76d0b9f9"
      },
      "execution_count": 18,
      "outputs": [
        {
          "output_type": "display_data",
          "data": {
            "text/plain": [
              "Map (num_proc=4):   0%|          | 0/10000 [00:00<?, ? examples/s]"
            ],
            "application/vnd.jupyter.widget-view+json": {
              "version_major": 2,
              "version_minor": 0,
              "model_id": "926bdd973e67443098452d13af5e230e"
            }
          },
          "metadata": {}
        },
        {
          "output_type": "execute_result",
          "data": {
            "text/plain": [
              "'<s>### 指示\\n関数 \\\\( y = ax^2 + bx + c \\\\) のグラフが点 \\\\((0,5)\\\\)、\\\\((1,10)\\\\)、および \\\\((2,19)\\\\) を通る場合、\\\\(a + b + c\\\\) の値を求めなさい。\\n### 回答\\nまず、各点の座標を関数の方程式に代入して、3つの方程式からなるシステムを得ます。例えば、点 \\\\((0,5)\\\\) を使うと、\\\\(5 = a \\\\cdot 0^2 + b \\\\cdot 0 + c\\\\) となり、これは \\\\(c = 5\\\\) を意味します。次に、点 \\\\((1,10)\\\\) を使うと、\\\\(10 = a \\\\cdot 1^2 + b \\\\cdot 1 + 5\\\\) となり、これは \\\\(a + b = 5\\\\) を意味します。さらに、点 \\\\((2,19)\\\\) を使うと、\\\\(19 = a \\\\cdot 2^2 + b \\\\cdot 2 + 5\\\\) となり、これは \\\\(4a + 2b = 14\\\\) を意味します。これで、2つの変数 \\\\(a\\\\) と \\\\(b\\\\) を含む2つの方程式が得られました。次に、これらの方程式を使って \\\\(a\\\\) と \\\\(b\\\\) を求めます。まず、1つ目の方程式 \\\\(a + b = 5\\\\) を4倍して、2つ目の方程式 \\\\(4a + 2b = 14\\\\) から引きます。すると、\\\\(-2a - 2b = -10\\\\) と \\\\(4a + 2b = 14\\\\) となり、これらを加えると \\\\(2a = 4\\\\) となります。したがって、\\\\(a = 2\\\\) です。次に、\\\\(a = 2\\\\) を1つ目の方程式に代入すると、\\\\(2 + b = 5\\\\) となり、\\\\(b = 3\\\\) です。これで、\\\\(a = 2\\\\)、\\\\(b = 3\\\\)、および \\\\(c = 5\\\\) が得られました。最後に、\\\\(a + b + c\\\\) を求めます。これは \\\\(2 + 3 + 5 = 10\\\\) です。</s>'"
            ],
            "application/vnd.google.colaboratory.intrinsic+json": {
              "type": "string"
            }
          },
          "metadata": {},
          "execution_count": 18
        }
      ]
    },
    {
      "cell_type": "code",
      "execution_count": 19,
      "metadata": {
        "id": "3hRCgKElgXVV",
        "colab": {
          "base_uri": "https://localhost:8080/"
        },
        "outputId": "8d6f1f95-deaa-4077-aec9-1ef12b92d4fb"
      },
      "outputs": [
        {
          "output_type": "stream",
          "name": "stderr",
          "text": [
            "<ipython-input-19-98b819e02a51>:22: FutureWarning: DataFrame.applymap has been deprecated. Use DataFrame.map instead.\n",
            "  tengentoppa_df = tengentoppa_df.applymap(\n"
          ]
        },
        {
          "output_type": "stream",
          "name": "stdout",
          "text": [
            "クレンジング後のデータセット件数: 10000件\n"
          ]
        }
      ],
      "source": [
        "from datasets import load_dataset, Dataset\n",
        "import pandas as pd\n",
        "\n",
        "# Tengentoppa データセットをロード\n",
        "tengentoppa_full = load_dataset(\"DeL-TaiseiOzaki/Tengentoppa-sft-v1.0\")\n",
        "\n",
        "# 先頭から5000件を選択\n",
        "tengentoppa_dataset = tengentoppa_full[\"train\"].select(range(10000))\n",
        "\n",
        "# # 10001番目から最後までのデータを選択\n",
        "# start_index = 10000\n",
        "# tengentoppa_remaining_dataset = tengentoppa_full[\"train\"].select(range(start_index, len(tengentoppa_full[\"train\"])))\n",
        "\n",
        "# # データセット情報を出力\n",
        "# print(f\"Tengentoppaデータセット: 元の{len(tengentoppa_full['train'])}件から{len(tengentoppa_dataset)}件を選択\")\n",
        "\n",
        "# データをPandas DataFrameに変換\n",
        "tengentoppa_df = pd.DataFrame(tengentoppa_dataset)\n",
        "\n",
        "# --- クレンジング処理 ---\n",
        "# 1. セル内の複数改行を削除、前後の空白をトリム\n",
        "tengentoppa_df = tengentoppa_df.applymap(\n",
        "    lambda x: x if not isinstance(x, str) else x.replace(\"\\n\\n\", \"\").strip()\n",
        ")\n",
        "\n",
        "# 2. 空白または改行のみの行を削除\n",
        "tengentoppa_df = tengentoppa_df.loc[~tengentoppa_df.apply(\n",
        "    lambda row: row.astype(str).str.strip().eq('').all(), axis=1\n",
        ")]\n",
        "\n",
        "# クレンジング後のデータをHugging Face Dataset形式に戻す\n",
        "tengentoppa_dataset_cleaned = Dataset.from_pandas(tengentoppa_df)\n",
        "\n",
        "# データセット情報を出力\n",
        "print(f\"クレンジング後のデータセット件数: {len(tengentoppa_dataset_cleaned)}件\")\n"
      ]
    },
    {
      "cell_type": "code",
      "execution_count": null,
      "metadata": {
        "id": "BFdQuS63OzRO"
      },
      "outputs": [],
      "source": [
        "# ELYZA-tasks-100をダウンロードしてデータセットとして読み込み\n",
        "from datasets import load_dataset\n",
        "\n",
        "elyza_dataset = load_dataset(\"elyza/ELYZA-tasks-100\")\n",
        "elyza_dataset"
      ]
    },
    {
      "cell_type": "code",
      "execution_count": null,
      "metadata": {
        "id": "BANlYJFSKf-K"
      },
      "outputs": [],
      "source": [
        "# フォーマット関数\n",
        "def format_ichikara(examples):\n",
        "    text = tokenizer.bos_token + prompt_template.format(\n",
        "        examples[\"text\"],\n",
        "        examples[\"output\"]\n",
        "    ) + tokenizer.eos_token\n",
        "    return {\"formatted_text\": text}\n",
        "\n",
        "def format_tengentoppa(examples):\n",
        "    text = tokenizer.bos_token + prompt_template.format(\n",
        "        examples[\"instruction\"],  # instructionフィールドを使用\n",
        "        examples[\"output\"]       # outputフィールドを使用\n",
        "    ) + tokenizer.eos_token\n",
        "    return {\"formatted_text\": text}\n",
        "\n",
        "def format_elyza(examples):\n",
        "    text = tokenizer.bos_token + prompt_template.format(\n",
        "        examples[\"input\"],\n",
        "        examples[\"output\"]\n",
        "    ) + tokenizer.eos_token\n",
        "    return {\"formatted_text\": text}\n",
        "\n",
        "# データセットのフォーマット\n",
        "ichikara_formatted = ichikara_dataset.map(\n",
        "    format_ichikara,\n",
        "    num_proc=4,\n",
        ")\n",
        "\n",
        "tengentoppa_formatted = tengentoppa_dataset_cleaned.map(\n",
        "    format_tengentoppa,\n",
        "    num_proc=4,\n",
        ")\n",
        "\n",
        "elyza_formatted = elyza_dataset.map(\n",
        "    format_elyza,\n",
        "    num_proc=4,\n",
        ")\n",
        "\n",
        "# データセットの結合\n",
        "combined_dataset = concatenate_datasets([\n",
        "    ichikara_formatted[\"train\"],\n",
        "    tengentoppa_formatted,\n",
        "    elyza_formatted[\"test\"],\n",
        "    geniac_formatted,\n",
        "])"
      ]
    },
    {
      "cell_type": "code",
      "execution_count": null,
      "metadata": {
        "id": "20k4OM5e0uJB"
      },
      "outputs": [],
      "source": [
        "# データセット情報を出力\n",
        "print(f\"データセット件数: {len(combined_dataset)}件\")\n",
        "combined_dataset[0]"
      ]
    },
    {
      "cell_type": "code",
      "execution_count": 23,
      "metadata": {
        "id": "GHSyrGcEQ_3I",
        "colab": {
          "base_uri": "https://localhost:8080/",
          "height": 49,
          "referenced_widgets": [
            "37b7598d24d74658a5dd57a9b46a8dca",
            "960255e632ed498299329c627a7a3526",
            "26feced07b3b42cfa7b9154006f6422a",
            "d45a5b03bd044f00bba4669bf4049ef1",
            "d8814cbe8c3d42c0b43c283c19fed494",
            "75a3a9903beb456288755b7f3b5cb441",
            "bca410c0996d4450aaddd75c9555a886",
            "c18d50d283854f63ad2290454ecd5530",
            "2f2b5711b83748dd90c4d2d90f64b7cc",
            "50e86ee57bc04b2fa5f2325f360b4b7c",
            "f1955f9617764aa58afbfdbe430ec108"
          ]
        },
        "outputId": "5042a94b-dff1-40d0-e4d1-6908050cc9c2"
      },
      "outputs": [
        {
          "output_type": "display_data",
          "data": {
            "text/plain": [
              "Map:   0%|          | 0/21829 [00:00<?, ? examples/s]"
            ],
            "application/vnd.jupyter.widget-view+json": {
              "version_major": 2,
              "version_minor": 0,
              "model_id": "37b7598d24d74658a5dd57a9b46a8dca"
            }
          },
          "metadata": {}
        }
      ],
      "source": [
        "\"\"\"\n",
        "training_arguments: 学習の設定\n",
        "\n",
        "  - output_dir:\n",
        "      -トレーニング後のモデルを保存するディレクトリ\n",
        "\n",
        "  - per_device_train_batch_size:\n",
        "      - デバイスごとのトレーニングバッチサイズ\n",
        "\n",
        "  - per_device_eval_batch_size:\n",
        "      - デバイスごとの評価バッチサイズ\n",
        "\n",
        "  - gradient_accumulation_steps:\n",
        "      - 勾配を更新する前にステップを積み重ねる回数\n",
        "\n",
        "  - optim:\n",
        "      - オプティマイザの設定\n",
        "\n",
        "  - num_train_epochs:\n",
        "      - エポック数\n",
        "\n",
        "  - eval_strategy:\n",
        "      - 評価の戦略 (\"no\"/\"steps\"/\"epoch\")\n",
        "\n",
        "  - eval_steps:\n",
        "      - eval_strategyが\"steps\"のとき、評価を行うstep間隔\n",
        "\n",
        "  - logging_strategy:\n",
        "      - ログ記録の戦略\n",
        "\n",
        "  - logging_steps:\n",
        "      - ログを出力するステップ間隔\n",
        "\n",
        "  - warmup_steps:\n",
        "      - 学習率のウォームアップステップ数\n",
        "\n",
        "  - save_steps:\n",
        "      - モデルを保存するステップ間隔\n",
        "\n",
        "  - save_total_limit:\n",
        "      - 保存しておくcheckpointの数\n",
        "\n",
        "  - max_steps:\n",
        "      - トレーニングの最大ステップ数\n",
        "\n",
        "  - learning_rate:\n",
        "      - 学習率\n",
        "\n",
        "  - fp16:\n",
        "      - 16bit浮動小数点の使用設定（第8回演習を参考にすると良いです）\n",
        "\n",
        "  - bf16:\n",
        "      - BFloat16の使用設定\n",
        "\n",
        "  - group_by_length:\n",
        "      -  入力シーケンスの長さによりバッチをグループ化 (トレーニングの効率化)\n",
        "\n",
        "  - report_to:\n",
        "      - ログの送信先 (\"wandb\"/\"tensorboard\"など)\n",
        "\"\"\"\n",
        "from trl import SFTTrainer\n",
        "from transformers import TrainingArguments\n",
        "from unsloth import is_bfloat16_supported\n",
        "\n",
        "trainer = SFTTrainer(\n",
        "    model = model,\n",
        "    tokenizer = tokenizer,\n",
        "    train_dataset=combined_dataset, #dataset[\"train\"],\n",
        "    max_seq_length = max_seq_length,\n",
        "    dataset_text_field=\"formatted_text\",\n",
        "    packing = False,\n",
        "    neftune_noise_alpha=5, # ★★これを試す(NEFTune設定)\n",
        "    args = TrainingArguments(\n",
        "        per_device_train_batch_size = 2, #8, #4, #2,\n",
        "        gradient_accumulation_steps = 4,\n",
        "        num_train_epochs = 1,\n",
        "        logging_steps = 20,\n",
        "        warmup_steps = 10,\n",
        "        save_steps=100,\n",
        "        save_total_limit=2,\n",
        "        max_steps=-1,\n",
        "        # optim=\"adamw_torch_fused\",\n",
        "        learning_rate = 2e-4,\n",
        "        fp16 = not is_bfloat16_supported(),\n",
        "        bf16 = is_bfloat16_supported(),\n",
        "        group_by_length=True,\n",
        "        seed = 3711,\n",
        "        output_dir = \".\",\n",
        "        report_to = \"none\",\n",
        "        # report_to=\"wandb\",\n",
        "        # auto_find_batch_size=True, # 追加：これを入れないとGPUメモリがオーバーフローする\n",
        "    ),\n",
        ")"
      ]
    },
    {
      "cell_type": "code",
      "execution_count": null,
      "metadata": {
        "id": "f3U8FUkwTx_K"
      },
      "outputs": [],
      "source": [
        "#@title 現在のメモリ使用量を表示\n",
        "gpu_stats = torch.cuda.get_device_properties(0)\n",
        "start_gpu_memory = round(torch.cuda.max_memory_reserved() / 1024 / 1024 / 1024, 3)\n",
        "max_memory = round(gpu_stats.total_memory / 1024 / 1024 / 1024, 3)\n",
        "print(f\"GPU = {gpu_stats.name}. Max memory = {max_memory} GB.\")\n",
        "print(f\"{start_gpu_memory} GB of memory reserved.\")"
      ]
    },
    {
      "cell_type": "code",
      "execution_count": null,
      "metadata": {
        "id": "xjrchK4hSr0b"
      },
      "outputs": [],
      "source": [
        "%%time\n",
        "#@title 学習実行\n",
        "trainer_stats = trainer.train()"
      ]
    },
    {
      "cell_type": "code",
      "execution_count": null,
      "metadata": {
        "id": "z_P7-b0_Q_3J"
      },
      "outputs": [],
      "source": [
        "# ELYZA-tasks-100-TVの読み込み。事前にファイルをアップロードしてください\n",
        "# データセットの読み込み。\n",
        "# omnicampusの開発環境では、左にタスクのjsonlをドラッグアンドドロップしてから実行。\n",
        "import json\n",
        "datasets = []\n",
        "\n",
        "with open(f\"{base_path}/elyza-tasks-100-TV_0.jsonl\", \"r\") as f:\n",
        "    item = \"\"\n",
        "    for line in f:\n",
        "      line = line.strip()\n",
        "      item += line\n",
        "      if item.endswith(\"}\"):\n",
        "        datasets.append(json.loads(item))\n",
        "        item = \"\""
      ]
    },
    {
      "cell_type": "code",
      "execution_count": null,
      "metadata": {
        "id": "ZsbwPAOJQ_3J"
      },
      "outputs": [],
      "source": [
        "%%time\n",
        "# 学習したモデルを用いてタスクを実行\n",
        "from tqdm import tqdm\n",
        "import time\n",
        "\n",
        "start_time = time.time()  # 開始時間を記録\n",
        "\n",
        "# 推論するためにモデルのモードを変更\n",
        "FastLanguageModel.for_inference(model)\n",
        "\n",
        "results = []\n",
        "for dt in tqdm(datasets):\n",
        "  input = dt[\"input\"]\n",
        "\n",
        "  prompt = f\"\"\"### 指示\\n{input}\\n### 回答\\n\"\"\"\n",
        "\n",
        "  inputs = tokenizer([prompt], return_tensors = \"pt\").to(model.device)\n",
        "\n",
        "  outputs = model.generate(**inputs, max_new_tokens = 1024, use_cache = True, do_sample=False, repetition_penalty=1.2)\n",
        "  prediction = tokenizer.decode(outputs[0], skip_special_tokens=True).split('\\n### 回答')[-1]\n",
        "\n",
        "  results.append({\"task_id\": dt[\"task_id\"], \"input\": input, \"output\": prediction})\n",
        "\n",
        "# 推論にかかった時間を計算して表示\n",
        "end_time = time.time()  # 終了時間を記録\n",
        "total_time = end_time - start_time\n",
        "print(f\"推論にかかった時間: {total_time:.2f} 秒\")"
      ]
    },
    {
      "cell_type": "code",
      "execution_count": null,
      "metadata": {
        "id": "pd8VbKeIQ_3J"
      },
      "outputs": [],
      "source": [
        "# jsonlで保存\n",
        "file_path = f\"{new_model_id}_output.jsonl\"\n",
        "with open(file_path, 'w', encoding='utf-8') as f:\n",
        "    for result in results:\n",
        "        json.dump(result, f, ensure_ascii=False)\n",
        "        f.write('\\n')\n",
        "print(f\"save to {file_path}\")"
      ]
    },
    {
      "cell_type": "code",
      "execution_count": null,
      "metadata": {
        "id": "R__YUghKqqGN"
      },
      "outputs": [],
      "source": [
        "!pip install -qqq openai"
      ]
    },
    {
      "cell_type": "code",
      "execution_count": null,
      "metadata": {
        "id": "UT2L0kn9qtRk"
      },
      "outputs": [],
      "source": [
        "# シークレットキーを使う場合\n",
        "from google.colab import userdata\n",
        "OPENAI_API_KEY = userdata.get('OPENAI_API_KEY')"
      ]
    },
    {
      "cell_type": "code",
      "execution_count": null,
      "metadata": {
        "id": "uUWguSD9q6yY"
      },
      "outputs": [],
      "source": [
        "%%time\n",
        "import openai\n",
        "from tenacity import (\n",
        "    retry,\n",
        "    stop_after_attempt,\n",
        "    wait_random_exponential,\n",
        ")  # for exponential backoff\n",
        "\n",
        "# https://github.com/openai/openai-cookbook/blob/main/examples/How_to_handle_rate_limits.ipynb\n",
        "\n",
        "client = openai.OpenAI(api_key=OPENAI_API_KEY)\n",
        "\n",
        "@retry(wait=wait_random_exponential(min=2, max=60), stop=stop_after_attempt(6))\n",
        "def completion_with_backoff(**kwargs):\n",
        "    return client.chat.completions.create(**kwargs)\n",
        "\n",
        "\n",
        "def gpt4eval_tv(input_text, output_text):\n",
        "    prompt = f\"\"\"あなたは採点者です。\n",
        "\n",
        "問題, 採点基準, 回答 が与えられます。\n",
        "\n",
        "採点基準を参考にして、回答を1,2,3,4,5の5段階で採点し、数字のみを出力してください。\n",
        "\n",
        "# 問題\n",
        "{input_text}\n",
        "\n",
        "# 採点基準\n",
        "基本的な採点基準\n",
        "- 1点: 誤っている、 指示に従えていない\n",
        "- 2点: 誤っているが、方向性は合っている\n",
        "- 3点: 部分的に誤っている、 部分的に合っている\n",
        "- 4点: 合っている\n",
        "- 5点: 役に立つ\n",
        "\n",
        "基本的な減点項目\n",
        "- 不自然な日本語: -1点\n",
        "- 部分的に事実と異なる内容を述べている: -1点\n",
        "- 「倫理的に答えられません」のように過度に安全性を気にしてしまっている: 2点にする\n",
        "\n",
        "# 回答\n",
        "{output_text}\n",
        "\"\"\"\n",
        "\n",
        "    # print(prompt) # for debug\n",
        "\n",
        "    response = completion_with_backoff(\n",
        "        # model=\"gpt-4o-2024-11-20\",\n",
        "        # model=\"gpt-4o\",\n",
        "        model=\"gpt-4o-mini\",\n",
        "        messages=[{\"role\": \"user\", \"content\": prompt}],\n",
        "        temperature=0,\n",
        "        frequency_penalty=0,\n",
        "        presence_penalty=0,\n",
        "    )\n",
        "    # print(response.choices[0].message.content)\n",
        "    gpt4score = response.choices[0].message.content\n",
        "    try:\n",
        "        gpt4score = int(gpt4score)\n",
        "    except ValueError:\n",
        "        gpt4score = None\n",
        "    return gpt4score"
      ]
    },
    {
      "cell_type": "code",
      "execution_count": null,
      "metadata": {
        "id": "5vhFh0V6rrU9"
      },
      "outputs": [],
      "source": [
        "for result in tqdm(results):\n",
        "    score = gpt4eval_tv(result[\"input\"], result[\"output\"])\n",
        "    print(score)\n",
        "    result[\"gpt4score\"] = score"
      ]
    },
    {
      "cell_type": "code",
      "execution_count": null,
      "metadata": {
        "id": "w2oAhYPErw0y"
      },
      "outputs": [],
      "source": [
        "# リストからgpt4scoreの平均を計算\n",
        "gpt4score_average = sum(item['gpt4score'] for item in results) / len(results)\n",
        "\n",
        "# 結果を出力\n",
        "print(f'gpt4scoreの平均は: {gpt4score_average}')"
      ]
    },
    {
      "cell_type": "code",
      "execution_count": null,
      "metadata": {
        "id": "IBClhGnNr0mr"
      },
      "outputs": [],
      "source": [
        "import pandas as pd\n",
        "\n",
        "df = pd.DataFrame(results)\n",
        "\n",
        "# CSVファイルとして保存\n",
        "csv_file_path = f\"{new_model_id}_tv.csv\"\n",
        "df.to_csv(csv_file_path, index=False, encoding='utf-8')\n",
        "\n",
        "# エクセルファイルとして保存\n",
        "excel_file_path = f\"{new_model_id}_tv.xlsx\"\n",
        "df.to_excel(excel_file_path, index=False)"
      ]
    },
    {
      "cell_type": "markdown",
      "metadata": {
        "id": "SZrFExsmCdXq"
      },
      "source": [
        "モデルとトークナイザーをHugging Faceにアップロードします。  \n",
        "本コードではLoRAのアダブタのみを保存します。  \n",
        "このアダプタを用いた推論方法はModel_Inference_Template_unsloth_20241127.ipynbをご参照ください。  \n",
        "  \n",
        "一旦privateでアップロードしてください。  \n",
        "https://docs.unsloth.ai/basics/saving-and-using-models"
      ]
    },
    {
      "cell_type": "code",
      "execution_count": null,
      "metadata": {
        "id": "GsLyYfZlF2qE"
      },
      "outputs": [],
      "source": [
        "# LoRAアダプタだけ保存\n",
        "model.push_to_hub_merged(\n",
        "    new_model_id+\"_lora\",\n",
        "    tokenizer=tokenizer,\n",
        "    save_method=\"lora\",\n",
        "    token=HF_TOKEN,\n",
        "    private=True\n",
        ")"
      ]
    },
    {
      "cell_type": "code",
      "execution_count": null,
      "metadata": {
        "id": "HS9eTjZh_QYN"
      },
      "outputs": [],
      "source": [
        "# ELYZA-tasks-100をダウンロードしてデータセットとして読み込み\n",
        "from datasets import load_dataset\n",
        "\n",
        "datasets = load_dataset(\"elyza/ELYZA-tasks-100\")"
      ]
    },
    {
      "cell_type": "code",
      "execution_count": null,
      "metadata": {
        "id": "QwYsJRSp_RXp"
      },
      "outputs": [],
      "source": [
        "# ELYZA-tasks-100 で推論する\n",
        "\n",
        "import time\n",
        "from tqdm import tqdm\n",
        "\n",
        "# モデルを用いてタスクの推論。\n",
        "\n",
        "# 推論するためにモデルのモードを変更\n",
        "FastLanguageModel.for_inference(model)\n",
        "\n",
        "results = []\n",
        "start_time = time.time()  # 開始時間を記録\n",
        "\n",
        "results = []\n",
        "for dt in tqdm(datasets[\"test\"]):\n",
        "    input = dt[\"input\"]\n",
        "    prompt = f\"\"\"### 指示\\n{input}\\n### 回答\\n\"\"\"\n",
        "\n",
        "    inputs = tokenizer([prompt], return_tensors = \"pt\").to(model.device)\n",
        "\n",
        "    # outputs = model.generate(**inputs, max_new_tokens = 512, use_cache = True, do_sample=False, repetition_penalty=1.2)\n",
        "    outputs = model.generate(**inputs, max_new_tokens = 1024, use_cache = True, do_sample=False, repetition_penalty=1.2)\n",
        "    prediction = tokenizer.decode(outputs[0], skip_special_tokens=True).split('\\n### 回答')[-1]\n",
        "\n",
        "    # print(input)\n",
        "    # print(prediction)\n",
        "\n",
        "    results.append({\"input\": input, \"output\": dt[\"output\"], \"eval_aspect\": dt[\"eval_aspect\"], \"prediction\": prediction})\n",
        "\n",
        "\n",
        "# 推論にかかった時間を計算して表示\n",
        "end_time = time.time()  # 終了時間を記録\n",
        "total_time = end_time - start_time\n",
        "print(f\"推論にかかった時間: {total_time:.2f} 秒\")"
      ]
    },
    {
      "cell_type": "code",
      "execution_count": null,
      "metadata": {
        "id": "0b6eKdFS_od9"
      },
      "outputs": [],
      "source": [
        "# シークレットキーを使う場合\n",
        "from google.colab import userdata\n",
        "OPENAI_API_KEY = userdata.get('OPENAI_API_KEY')"
      ]
    },
    {
      "cell_type": "code",
      "execution_count": null,
      "metadata": {
        "id": "M7B4k86b_sEy"
      },
      "outputs": [],
      "source": [
        "%%time\n",
        "import openai\n",
        "from tenacity import (\n",
        "    retry,\n",
        "    stop_after_attempt,\n",
        "    wait_random_exponential,\n",
        ")  # for exponential backoff\n",
        "\n",
        "# https://github.com/openai/openai-cookbook/blob/main/examples/How_to_handle_rate_limits.ipynb\n",
        "\n",
        "client = openai.OpenAI(api_key=OPENAI_API_KEY)\n",
        "\n",
        "@retry(wait=wait_random_exponential(min=2, max=60), stop=stop_after_attempt(6))\n",
        "def completion_with_backoff(**kwargs):\n",
        "    return client.chat.completions.create(**kwargs)\n",
        "\n",
        "\n",
        "def gpt4eval(pred, input_text, output_text, eval_aspect):\n",
        "    prompt = f\"\"\"あなたは採点者です。\n",
        "\n",
        "問題, 正解例, 採点基準, 回答 が与えられます。\n",
        "\n",
        "採点基準と正解例を参考にして、回答を1,2,3,4,5の5段階で採点し、数字のみを出力してください。\n",
        "\n",
        "# 問題\n",
        "{input_text}\n",
        "\n",
        "# 正解例\n",
        "{output_text}\n",
        "\n",
        "# 採点基準\n",
        "基本的な採点基準\n",
        "- 1点: 誤っている、 指示に従えていない\n",
        "- 2点: 誤っているが、方向性は合っている\n",
        "- 3点: 部分的に誤っている、 部分的に合っている\n",
        "- 4点: 合っている\n",
        "- 5点: 役に立つ\n",
        "\n",
        "基本的な減点項目\n",
        "- 不自然な日本語: -1点\n",
        "- 部分的に事実と異なる内容を述べている: -1点\n",
        "- 「倫理的に答えられません」のように過度に安全性を気にしてしまっている: 2点にする\n",
        "\n",
        "問題固有の採点基準\n",
        "{eval_aspect}\n",
        "\n",
        "# 回答\n",
        "{pred}\n",
        "\"\"\"\n",
        "\n",
        "    # print(prompt) # for debug\n",
        "\n",
        "    response = completion_with_backoff(\n",
        "        # model=\"gpt-4o-2024-11-20\",\n",
        "        # model=\"gpt-4o\",\n",
        "        model=\"gpt-4o-mini\",\n",
        "        messages=[{\"role\": \"user\", \"content\": prompt}],\n",
        "        temperature=0,\n",
        "        frequency_penalty=0,\n",
        "        presence_penalty=0,\n",
        "    )\n",
        "    # print(response.choices[0].message.content)\n",
        "    gpt4score = response.choices[0].message.content\n",
        "    try:\n",
        "        gpt4score = int(gpt4score)\n",
        "    except ValueError:\n",
        "        gpt4score = None\n",
        "    return gpt4score"
      ]
    },
    {
      "cell_type": "code",
      "execution_count": null,
      "metadata": {
        "id": "pA_yAnoJ_s8E"
      },
      "outputs": [],
      "source": [
        "for result in tqdm(results):\n",
        "    score = gpt4eval(result[\"prediction\"], result[\"input\"], result[\"output\"], result[\"eval_aspect\"])\n",
        "    print(score)\n",
        "    result[\"gpt4score\"] = score"
      ]
    },
    {
      "cell_type": "code",
      "execution_count": null,
      "metadata": {
        "id": "eIqqmpJ-_vft"
      },
      "outputs": [],
      "source": [
        "# リストからgpt4scoreの平均を計算\n",
        "gpt4score_average = sum(item['gpt4score'] for item in results) / len(results)\n",
        "\n",
        "# 結果を出力\n",
        "print(f'gpt4scoreの平均は: {gpt4score_average}')"
      ]
    },
    {
      "cell_type": "code",
      "execution_count": null,
      "metadata": {
        "id": "_igRYzkIAIIk"
      },
      "outputs": [],
      "source": [
        "import pandas as pd\n",
        "\n",
        "df = pd.DataFrame(results)\n",
        "\n",
        "# CSVファイルとして保存\n",
        "csv_file_path = f\"{new_model_id}_output.csv\"\n",
        "df.to_csv(csv_file_path, index=False, encoding='utf-8')\n",
        "\n",
        "# エクセルファイルとして保存\n",
        "excel_file_path = f\"{new_model_id}_output.xlsx\"\n",
        "df.to_excel(excel_file_path, index=False)"
      ]
    },
    {
      "cell_type": "code",
      "source": [
        "print(f\"base model: {base_model_id}\")\n",
        "print(f\"new model: {new_model_id}\")"
      ],
      "metadata": {
        "id": "alNrb_yuMU3n"
      },
      "execution_count": null,
      "outputs": []
    },
    {
      "cell_type": "code",
      "execution_count": null,
      "metadata": {
        "id": "MwYliptTALC8"
      },
      "outputs": [],
      "source": [
        "# pandasの表を表示\n",
        "from IPython.display import display\n",
        "display(df)"
      ]
    }
  ],
  "metadata": {
    "colab": {
      "machine_shape": "hm",
      "provenance": [],
      "gpuType": "T4",
      "include_colab_link": true
    },
    "kernelspec": {
      "display_name": "Python 3",
      "name": "python3"
    },
    "language_info": {
      "name": "python"
    },
    "widgets": {
      "application/vnd.jupyter.widget-state+json": {
        "2b66e3b104324952a3e0e09883f217e0": {
          "model_module": "@jupyter-widgets/controls",
          "model_name": "HBoxModel",
          "model_module_version": "1.5.0",
          "state": {
            "_dom_classes": [],
            "_model_module": "@jupyter-widgets/controls",
            "_model_module_version": "1.5.0",
            "_model_name": "HBoxModel",
            "_view_count": null,
            "_view_module": "@jupyter-widgets/controls",
            "_view_module_version": "1.5.0",
            "_view_name": "HBoxView",
            "box_style": "",
            "children": [
              "IPY_MODEL_a407a09bbb3a497f8c64a3a29ada74de",
              "IPY_MODEL_b658d293efbb452ba7d38bb8e8a29e43",
              "IPY_MODEL_4189f16a27b14c428d7d134ab4b7e250"
            ],
            "layout": "IPY_MODEL_bac70c49d6ae4b41a87d360695bfef84"
          }
        },
        "a407a09bbb3a497f8c64a3a29ada74de": {
          "model_module": "@jupyter-widgets/controls",
          "model_name": "HTMLModel",
          "model_module_version": "1.5.0",
          "state": {
            "_dom_classes": [],
            "_model_module": "@jupyter-widgets/controls",
            "_model_module_version": "1.5.0",
            "_model_name": "HTMLModel",
            "_view_count": null,
            "_view_module": "@jupyter-widgets/controls",
            "_view_module_version": "1.5.0",
            "_view_name": "HTMLView",
            "description": "",
            "description_tooltip": null,
            "layout": "IPY_MODEL_fa40e9ad487d4126b70548a6fd95a602",
            "placeholder": "​",
            "style": "IPY_MODEL_fabe78bd3bfc4a2ba138022b7cd7fa1a",
            "value": "Loading checkpoint shards: 100%"
          }
        },
        "b658d293efbb452ba7d38bb8e8a29e43": {
          "model_module": "@jupyter-widgets/controls",
          "model_name": "FloatProgressModel",
          "model_module_version": "1.5.0",
          "state": {
            "_dom_classes": [],
            "_model_module": "@jupyter-widgets/controls",
            "_model_module_version": "1.5.0",
            "_model_name": "FloatProgressModel",
            "_view_count": null,
            "_view_module": "@jupyter-widgets/controls",
            "_view_module_version": "1.5.0",
            "_view_name": "ProgressView",
            "bar_style": "success",
            "description": "",
            "description_tooltip": null,
            "layout": "IPY_MODEL_c97322c4ca414285ab9f0ac62f24b06a",
            "max": 6,
            "min": 0,
            "orientation": "horizontal",
            "style": "IPY_MODEL_89f2983eb80b45d4ab80b6a2f1b8b2df",
            "value": 6
          }
        },
        "4189f16a27b14c428d7d134ab4b7e250": {
          "model_module": "@jupyter-widgets/controls",
          "model_name": "HTMLModel",
          "model_module_version": "1.5.0",
          "state": {
            "_dom_classes": [],
            "_model_module": "@jupyter-widgets/controls",
            "_model_module_version": "1.5.0",
            "_model_name": "HTMLModel",
            "_view_count": null,
            "_view_module": "@jupyter-widgets/controls",
            "_view_module_version": "1.5.0",
            "_view_name": "HTMLView",
            "description": "",
            "description_tooltip": null,
            "layout": "IPY_MODEL_58f9c9f1061342da99d5e211b28bde56",
            "placeholder": "​",
            "style": "IPY_MODEL_08b4b12b120945de815bc53bc3a59a5f",
            "value": " 6/6 [02:16&lt;00:00, 20.68s/it]"
          }
        },
        "bac70c49d6ae4b41a87d360695bfef84": {
          "model_module": "@jupyter-widgets/base",
          "model_name": "LayoutModel",
          "model_module_version": "1.2.0",
          "state": {
            "_model_module": "@jupyter-widgets/base",
            "_model_module_version": "1.2.0",
            "_model_name": "LayoutModel",
            "_view_count": null,
            "_view_module": "@jupyter-widgets/base",
            "_view_module_version": "1.2.0",
            "_view_name": "LayoutView",
            "align_content": null,
            "align_items": null,
            "align_self": null,
            "border": null,
            "bottom": null,
            "display": null,
            "flex": null,
            "flex_flow": null,
            "grid_area": null,
            "grid_auto_columns": null,
            "grid_auto_flow": null,
            "grid_auto_rows": null,
            "grid_column": null,
            "grid_gap": null,
            "grid_row": null,
            "grid_template_areas": null,
            "grid_template_columns": null,
            "grid_template_rows": null,
            "height": null,
            "justify_content": null,
            "justify_items": null,
            "left": null,
            "margin": null,
            "max_height": null,
            "max_width": null,
            "min_height": null,
            "min_width": null,
            "object_fit": null,
            "object_position": null,
            "order": null,
            "overflow": null,
            "overflow_x": null,
            "overflow_y": null,
            "padding": null,
            "right": null,
            "top": null,
            "visibility": null,
            "width": null
          }
        },
        "fa40e9ad487d4126b70548a6fd95a602": {
          "model_module": "@jupyter-widgets/base",
          "model_name": "LayoutModel",
          "model_module_version": "1.2.0",
          "state": {
            "_model_module": "@jupyter-widgets/base",
            "_model_module_version": "1.2.0",
            "_model_name": "LayoutModel",
            "_view_count": null,
            "_view_module": "@jupyter-widgets/base",
            "_view_module_version": "1.2.0",
            "_view_name": "LayoutView",
            "align_content": null,
            "align_items": null,
            "align_self": null,
            "border": null,
            "bottom": null,
            "display": null,
            "flex": null,
            "flex_flow": null,
            "grid_area": null,
            "grid_auto_columns": null,
            "grid_auto_flow": null,
            "grid_auto_rows": null,
            "grid_column": null,
            "grid_gap": null,
            "grid_row": null,
            "grid_template_areas": null,
            "grid_template_columns": null,
            "grid_template_rows": null,
            "height": null,
            "justify_content": null,
            "justify_items": null,
            "left": null,
            "margin": null,
            "max_height": null,
            "max_width": null,
            "min_height": null,
            "min_width": null,
            "object_fit": null,
            "object_position": null,
            "order": null,
            "overflow": null,
            "overflow_x": null,
            "overflow_y": null,
            "padding": null,
            "right": null,
            "top": null,
            "visibility": null,
            "width": null
          }
        },
        "fabe78bd3bfc4a2ba138022b7cd7fa1a": {
          "model_module": "@jupyter-widgets/controls",
          "model_name": "DescriptionStyleModel",
          "model_module_version": "1.5.0",
          "state": {
            "_model_module": "@jupyter-widgets/controls",
            "_model_module_version": "1.5.0",
            "_model_name": "DescriptionStyleModel",
            "_view_count": null,
            "_view_module": "@jupyter-widgets/base",
            "_view_module_version": "1.2.0",
            "_view_name": "StyleView",
            "description_width": ""
          }
        },
        "c97322c4ca414285ab9f0ac62f24b06a": {
          "model_module": "@jupyter-widgets/base",
          "model_name": "LayoutModel",
          "model_module_version": "1.2.0",
          "state": {
            "_model_module": "@jupyter-widgets/base",
            "_model_module_version": "1.2.0",
            "_model_name": "LayoutModel",
            "_view_count": null,
            "_view_module": "@jupyter-widgets/base",
            "_view_module_version": "1.2.0",
            "_view_name": "LayoutView",
            "align_content": null,
            "align_items": null,
            "align_self": null,
            "border": null,
            "bottom": null,
            "display": null,
            "flex": null,
            "flex_flow": null,
            "grid_area": null,
            "grid_auto_columns": null,
            "grid_auto_flow": null,
            "grid_auto_rows": null,
            "grid_column": null,
            "grid_gap": null,
            "grid_row": null,
            "grid_template_areas": null,
            "grid_template_columns": null,
            "grid_template_rows": null,
            "height": null,
            "justify_content": null,
            "justify_items": null,
            "left": null,
            "margin": null,
            "max_height": null,
            "max_width": null,
            "min_height": null,
            "min_width": null,
            "object_fit": null,
            "object_position": null,
            "order": null,
            "overflow": null,
            "overflow_x": null,
            "overflow_y": null,
            "padding": null,
            "right": null,
            "top": null,
            "visibility": null,
            "width": null
          }
        },
        "89f2983eb80b45d4ab80b6a2f1b8b2df": {
          "model_module": "@jupyter-widgets/controls",
          "model_name": "ProgressStyleModel",
          "model_module_version": "1.5.0",
          "state": {
            "_model_module": "@jupyter-widgets/controls",
            "_model_module_version": "1.5.0",
            "_model_name": "ProgressStyleModel",
            "_view_count": null,
            "_view_module": "@jupyter-widgets/base",
            "_view_module_version": "1.2.0",
            "_view_name": "StyleView",
            "bar_color": null,
            "description_width": ""
          }
        },
        "58f9c9f1061342da99d5e211b28bde56": {
          "model_module": "@jupyter-widgets/base",
          "model_name": "LayoutModel",
          "model_module_version": "1.2.0",
          "state": {
            "_model_module": "@jupyter-widgets/base",
            "_model_module_version": "1.2.0",
            "_model_name": "LayoutModel",
            "_view_count": null,
            "_view_module": "@jupyter-widgets/base",
            "_view_module_version": "1.2.0",
            "_view_name": "LayoutView",
            "align_content": null,
            "align_items": null,
            "align_self": null,
            "border": null,
            "bottom": null,
            "display": null,
            "flex": null,
            "flex_flow": null,
            "grid_area": null,
            "grid_auto_columns": null,
            "grid_auto_flow": null,
            "grid_auto_rows": null,
            "grid_column": null,
            "grid_gap": null,
            "grid_row": null,
            "grid_template_areas": null,
            "grid_template_columns": null,
            "grid_template_rows": null,
            "height": null,
            "justify_content": null,
            "justify_items": null,
            "left": null,
            "margin": null,
            "max_height": null,
            "max_width": null,
            "min_height": null,
            "min_width": null,
            "object_fit": null,
            "object_position": null,
            "order": null,
            "overflow": null,
            "overflow_x": null,
            "overflow_y": null,
            "padding": null,
            "right": null,
            "top": null,
            "visibility": null,
            "width": null
          }
        },
        "08b4b12b120945de815bc53bc3a59a5f": {
          "model_module": "@jupyter-widgets/controls",
          "model_name": "DescriptionStyleModel",
          "model_module_version": "1.5.0",
          "state": {
            "_model_module": "@jupyter-widgets/controls",
            "_model_module_version": "1.5.0",
            "_model_name": "DescriptionStyleModel",
            "_view_count": null,
            "_view_module": "@jupyter-widgets/base",
            "_view_module_version": "1.2.0",
            "_view_name": "StyleView",
            "description_width": ""
          }
        },
        "38eb8a3574a34e3997cc1933dd7b8b3a": {
          "model_module": "@jupyter-widgets/controls",
          "model_name": "HBoxModel",
          "model_module_version": "1.5.0",
          "state": {
            "_dom_classes": [],
            "_model_module": "@jupyter-widgets/controls",
            "_model_module_version": "1.5.0",
            "_model_name": "HBoxModel",
            "_view_count": null,
            "_view_module": "@jupyter-widgets/controls",
            "_view_module_version": "1.5.0",
            "_view_name": "HBoxView",
            "box_style": "",
            "children": [
              "IPY_MODEL_a7563c83917548f1ae807201136643f0",
              "IPY_MODEL_811a95d4b25d45299b40eb91c4aa75fa",
              "IPY_MODEL_579c04afea2340ecbba4c6b9f186bc26"
            ],
            "layout": "IPY_MODEL_b4e119129f1547d49861655ed7466139"
          }
        },
        "a7563c83917548f1ae807201136643f0": {
          "model_module": "@jupyter-widgets/controls",
          "model_name": "HTMLModel",
          "model_module_version": "1.5.0",
          "state": {
            "_dom_classes": [],
            "_model_module": "@jupyter-widgets/controls",
            "_model_module_version": "1.5.0",
            "_model_name": "HTMLModel",
            "_view_count": null,
            "_view_module": "@jupyter-widgets/controls",
            "_view_module_version": "1.5.0",
            "_view_name": "HTMLView",
            "description": "",
            "description_tooltip": null,
            "layout": "IPY_MODEL_b03ed227e4a94a7b94d68ce0033877b5",
            "placeholder": "​",
            "style": "IPY_MODEL_1816fab7099a4a21aedbd55c1feb532d",
            "value": "tokenizer_config.json: 100%"
          }
        },
        "811a95d4b25d45299b40eb91c4aa75fa": {
          "model_module": "@jupyter-widgets/controls",
          "model_name": "FloatProgressModel",
          "model_module_version": "1.5.0",
          "state": {
            "_dom_classes": [],
            "_model_module": "@jupyter-widgets/controls",
            "_model_module_version": "1.5.0",
            "_model_name": "FloatProgressModel",
            "_view_count": null,
            "_view_module": "@jupyter-widgets/controls",
            "_view_module_version": "1.5.0",
            "_view_name": "ProgressView",
            "bar_style": "success",
            "description": "",
            "description_tooltip": null,
            "layout": "IPY_MODEL_46852e4eb86e49f5bbd4f03a0b126e39",
            "max": 494,
            "min": 0,
            "orientation": "horizontal",
            "style": "IPY_MODEL_ada1549ebcc64345aaec56ba011b635b",
            "value": 494
          }
        },
        "579c04afea2340ecbba4c6b9f186bc26": {
          "model_module": "@jupyter-widgets/controls",
          "model_name": "HTMLModel",
          "model_module_version": "1.5.0",
          "state": {
            "_dom_classes": [],
            "_model_module": "@jupyter-widgets/controls",
            "_model_module_version": "1.5.0",
            "_model_name": "HTMLModel",
            "_view_count": null,
            "_view_module": "@jupyter-widgets/controls",
            "_view_module_version": "1.5.0",
            "_view_name": "HTMLView",
            "description": "",
            "description_tooltip": null,
            "layout": "IPY_MODEL_6eb07eb5e7ce48728090945e55b6b000",
            "placeholder": "​",
            "style": "IPY_MODEL_11feb7ec001e4c0c94c8ea611ef6e654",
            "value": " 494/494 [00:00&lt;00:00, 38.1kB/s]"
          }
        },
        "b4e119129f1547d49861655ed7466139": {
          "model_module": "@jupyter-widgets/base",
          "model_name": "LayoutModel",
          "model_module_version": "1.2.0",
          "state": {
            "_model_module": "@jupyter-widgets/base",
            "_model_module_version": "1.2.0",
            "_model_name": "LayoutModel",
            "_view_count": null,
            "_view_module": "@jupyter-widgets/base",
            "_view_module_version": "1.2.0",
            "_view_name": "LayoutView",
            "align_content": null,
            "align_items": null,
            "align_self": null,
            "border": null,
            "bottom": null,
            "display": null,
            "flex": null,
            "flex_flow": null,
            "grid_area": null,
            "grid_auto_columns": null,
            "grid_auto_flow": null,
            "grid_auto_rows": null,
            "grid_column": null,
            "grid_gap": null,
            "grid_row": null,
            "grid_template_areas": null,
            "grid_template_columns": null,
            "grid_template_rows": null,
            "height": null,
            "justify_content": null,
            "justify_items": null,
            "left": null,
            "margin": null,
            "max_height": null,
            "max_width": null,
            "min_height": null,
            "min_width": null,
            "object_fit": null,
            "object_position": null,
            "order": null,
            "overflow": null,
            "overflow_x": null,
            "overflow_y": null,
            "padding": null,
            "right": null,
            "top": null,
            "visibility": null,
            "width": null
          }
        },
        "b03ed227e4a94a7b94d68ce0033877b5": {
          "model_module": "@jupyter-widgets/base",
          "model_name": "LayoutModel",
          "model_module_version": "1.2.0",
          "state": {
            "_model_module": "@jupyter-widgets/base",
            "_model_module_version": "1.2.0",
            "_model_name": "LayoutModel",
            "_view_count": null,
            "_view_module": "@jupyter-widgets/base",
            "_view_module_version": "1.2.0",
            "_view_name": "LayoutView",
            "align_content": null,
            "align_items": null,
            "align_self": null,
            "border": null,
            "bottom": null,
            "display": null,
            "flex": null,
            "flex_flow": null,
            "grid_area": null,
            "grid_auto_columns": null,
            "grid_auto_flow": null,
            "grid_auto_rows": null,
            "grid_column": null,
            "grid_gap": null,
            "grid_row": null,
            "grid_template_areas": null,
            "grid_template_columns": null,
            "grid_template_rows": null,
            "height": null,
            "justify_content": null,
            "justify_items": null,
            "left": null,
            "margin": null,
            "max_height": null,
            "max_width": null,
            "min_height": null,
            "min_width": null,
            "object_fit": null,
            "object_position": null,
            "order": null,
            "overflow": null,
            "overflow_x": null,
            "overflow_y": null,
            "padding": null,
            "right": null,
            "top": null,
            "visibility": null,
            "width": null
          }
        },
        "1816fab7099a4a21aedbd55c1feb532d": {
          "model_module": "@jupyter-widgets/controls",
          "model_name": "DescriptionStyleModel",
          "model_module_version": "1.5.0",
          "state": {
            "_model_module": "@jupyter-widgets/controls",
            "_model_module_version": "1.5.0",
            "_model_name": "DescriptionStyleModel",
            "_view_count": null,
            "_view_module": "@jupyter-widgets/base",
            "_view_module_version": "1.2.0",
            "_view_name": "StyleView",
            "description_width": ""
          }
        },
        "46852e4eb86e49f5bbd4f03a0b126e39": {
          "model_module": "@jupyter-widgets/base",
          "model_name": "LayoutModel",
          "model_module_version": "1.2.0",
          "state": {
            "_model_module": "@jupyter-widgets/base",
            "_model_module_version": "1.2.0",
            "_model_name": "LayoutModel",
            "_view_count": null,
            "_view_module": "@jupyter-widgets/base",
            "_view_module_version": "1.2.0",
            "_view_name": "LayoutView",
            "align_content": null,
            "align_items": null,
            "align_self": null,
            "border": null,
            "bottom": null,
            "display": null,
            "flex": null,
            "flex_flow": null,
            "grid_area": null,
            "grid_auto_columns": null,
            "grid_auto_flow": null,
            "grid_auto_rows": null,
            "grid_column": null,
            "grid_gap": null,
            "grid_row": null,
            "grid_template_areas": null,
            "grid_template_columns": null,
            "grid_template_rows": null,
            "height": null,
            "justify_content": null,
            "justify_items": null,
            "left": null,
            "margin": null,
            "max_height": null,
            "max_width": null,
            "min_height": null,
            "min_width": null,
            "object_fit": null,
            "object_position": null,
            "order": null,
            "overflow": null,
            "overflow_x": null,
            "overflow_y": null,
            "padding": null,
            "right": null,
            "top": null,
            "visibility": null,
            "width": null
          }
        },
        "ada1549ebcc64345aaec56ba011b635b": {
          "model_module": "@jupyter-widgets/controls",
          "model_name": "ProgressStyleModel",
          "model_module_version": "1.5.0",
          "state": {
            "_model_module": "@jupyter-widgets/controls",
            "_model_module_version": "1.5.0",
            "_model_name": "ProgressStyleModel",
            "_view_count": null,
            "_view_module": "@jupyter-widgets/base",
            "_view_module_version": "1.2.0",
            "_view_name": "StyleView",
            "bar_color": null,
            "description_width": ""
          }
        },
        "6eb07eb5e7ce48728090945e55b6b000": {
          "model_module": "@jupyter-widgets/base",
          "model_name": "LayoutModel",
          "model_module_version": "1.2.0",
          "state": {
            "_model_module": "@jupyter-widgets/base",
            "_model_module_version": "1.2.0",
            "_model_name": "LayoutModel",
            "_view_count": null,
            "_view_module": "@jupyter-widgets/base",
            "_view_module_version": "1.2.0",
            "_view_name": "LayoutView",
            "align_content": null,
            "align_items": null,
            "align_self": null,
            "border": null,
            "bottom": null,
            "display": null,
            "flex": null,
            "flex_flow": null,
            "grid_area": null,
            "grid_auto_columns": null,
            "grid_auto_flow": null,
            "grid_auto_rows": null,
            "grid_column": null,
            "grid_gap": null,
            "grid_row": null,
            "grid_template_areas": null,
            "grid_template_columns": null,
            "grid_template_rows": null,
            "height": null,
            "justify_content": null,
            "justify_items": null,
            "left": null,
            "margin": null,
            "max_height": null,
            "max_width": null,
            "min_height": null,
            "min_width": null,
            "object_fit": null,
            "object_position": null,
            "order": null,
            "overflow": null,
            "overflow_x": null,
            "overflow_y": null,
            "padding": null,
            "right": null,
            "top": null,
            "visibility": null,
            "width": null
          }
        },
        "11feb7ec001e4c0c94c8ea611ef6e654": {
          "model_module": "@jupyter-widgets/controls",
          "model_name": "DescriptionStyleModel",
          "model_module_version": "1.5.0",
          "state": {
            "_model_module": "@jupyter-widgets/controls",
            "_model_module_version": "1.5.0",
            "_model_name": "DescriptionStyleModel",
            "_view_count": null,
            "_view_module": "@jupyter-widgets/base",
            "_view_module_version": "1.2.0",
            "_view_name": "StyleView",
            "description_width": ""
          }
        },
        "2f611272a41a44eba708ffcd8104f579": {
          "model_module": "@jupyter-widgets/controls",
          "model_name": "HBoxModel",
          "model_module_version": "1.5.0",
          "state": {
            "_dom_classes": [],
            "_model_module": "@jupyter-widgets/controls",
            "_model_module_version": "1.5.0",
            "_model_name": "HBoxModel",
            "_view_count": null,
            "_view_module": "@jupyter-widgets/controls",
            "_view_module_version": "1.5.0",
            "_view_name": "HBoxView",
            "box_style": "",
            "children": [
              "IPY_MODEL_6bba661c12ee41baa1efa2c405d3afdb",
              "IPY_MODEL_688b93dbf4a84b19a00fc2a905ed54d8",
              "IPY_MODEL_608ca5a40b084b3bbc82cb3fea2cc920"
            ],
            "layout": "IPY_MODEL_fc0dfa2970d74d57bb964bd09877f7c1"
          }
        },
        "6bba661c12ee41baa1efa2c405d3afdb": {
          "model_module": "@jupyter-widgets/controls",
          "model_name": "HTMLModel",
          "model_module_version": "1.5.0",
          "state": {
            "_dom_classes": [],
            "_model_module": "@jupyter-widgets/controls",
            "_model_module_version": "1.5.0",
            "_model_name": "HTMLModel",
            "_view_count": null,
            "_view_module": "@jupyter-widgets/controls",
            "_view_module_version": "1.5.0",
            "_view_name": "HTMLView",
            "description": "",
            "description_tooltip": null,
            "layout": "IPY_MODEL_1a3b2a540b0f4ea8be8c73788f1fbc50",
            "placeholder": "​",
            "style": "IPY_MODEL_df5cc5c434774451ae1bb54bfb1927ae",
            "value": "tokenizer.json: 100%"
          }
        },
        "688b93dbf4a84b19a00fc2a905ed54d8": {
          "model_module": "@jupyter-widgets/controls",
          "model_name": "FloatProgressModel",
          "model_module_version": "1.5.0",
          "state": {
            "_dom_classes": [],
            "_model_module": "@jupyter-widgets/controls",
            "_model_module_version": "1.5.0",
            "_model_name": "FloatProgressModel",
            "_view_count": null,
            "_view_module": "@jupyter-widgets/controls",
            "_view_module_version": "1.5.0",
            "_view_name": "ProgressView",
            "bar_style": "success",
            "description": "",
            "description_tooltip": null,
            "layout": "IPY_MODEL_121e02e12cc9414388898668245cfb9d",
            "max": 6416433,
            "min": 0,
            "orientation": "horizontal",
            "style": "IPY_MODEL_5367f97fcec445aeb2d032b23fd9599c",
            "value": 6416433
          }
        },
        "608ca5a40b084b3bbc82cb3fea2cc920": {
          "model_module": "@jupyter-widgets/controls",
          "model_name": "HTMLModel",
          "model_module_version": "1.5.0",
          "state": {
            "_dom_classes": [],
            "_model_module": "@jupyter-widgets/controls",
            "_model_module_version": "1.5.0",
            "_model_name": "HTMLModel",
            "_view_count": null,
            "_view_module": "@jupyter-widgets/controls",
            "_view_module_version": "1.5.0",
            "_view_name": "HTMLView",
            "description": "",
            "description_tooltip": null,
            "layout": "IPY_MODEL_28afee5859cf4d808bc4159d40a72131",
            "placeholder": "​",
            "style": "IPY_MODEL_77fc605413f3418fbed03729562b8f5b",
            "value": " 6.42M/6.42M [00:01&lt;00:00, 5.57MB/s]"
          }
        },
        "fc0dfa2970d74d57bb964bd09877f7c1": {
          "model_module": "@jupyter-widgets/base",
          "model_name": "LayoutModel",
          "model_module_version": "1.2.0",
          "state": {
            "_model_module": "@jupyter-widgets/base",
            "_model_module_version": "1.2.0",
            "_model_name": "LayoutModel",
            "_view_count": null,
            "_view_module": "@jupyter-widgets/base",
            "_view_module_version": "1.2.0",
            "_view_name": "LayoutView",
            "align_content": null,
            "align_items": null,
            "align_self": null,
            "border": null,
            "bottom": null,
            "display": null,
            "flex": null,
            "flex_flow": null,
            "grid_area": null,
            "grid_auto_columns": null,
            "grid_auto_flow": null,
            "grid_auto_rows": null,
            "grid_column": null,
            "grid_gap": null,
            "grid_row": null,
            "grid_template_areas": null,
            "grid_template_columns": null,
            "grid_template_rows": null,
            "height": null,
            "justify_content": null,
            "justify_items": null,
            "left": null,
            "margin": null,
            "max_height": null,
            "max_width": null,
            "min_height": null,
            "min_width": null,
            "object_fit": null,
            "object_position": null,
            "order": null,
            "overflow": null,
            "overflow_x": null,
            "overflow_y": null,
            "padding": null,
            "right": null,
            "top": null,
            "visibility": null,
            "width": null
          }
        },
        "1a3b2a540b0f4ea8be8c73788f1fbc50": {
          "model_module": "@jupyter-widgets/base",
          "model_name": "LayoutModel",
          "model_module_version": "1.2.0",
          "state": {
            "_model_module": "@jupyter-widgets/base",
            "_model_module_version": "1.2.0",
            "_model_name": "LayoutModel",
            "_view_count": null,
            "_view_module": "@jupyter-widgets/base",
            "_view_module_version": "1.2.0",
            "_view_name": "LayoutView",
            "align_content": null,
            "align_items": null,
            "align_self": null,
            "border": null,
            "bottom": null,
            "display": null,
            "flex": null,
            "flex_flow": null,
            "grid_area": null,
            "grid_auto_columns": null,
            "grid_auto_flow": null,
            "grid_auto_rows": null,
            "grid_column": null,
            "grid_gap": null,
            "grid_row": null,
            "grid_template_areas": null,
            "grid_template_columns": null,
            "grid_template_rows": null,
            "height": null,
            "justify_content": null,
            "justify_items": null,
            "left": null,
            "margin": null,
            "max_height": null,
            "max_width": null,
            "min_height": null,
            "min_width": null,
            "object_fit": null,
            "object_position": null,
            "order": null,
            "overflow": null,
            "overflow_x": null,
            "overflow_y": null,
            "padding": null,
            "right": null,
            "top": null,
            "visibility": null,
            "width": null
          }
        },
        "df5cc5c434774451ae1bb54bfb1927ae": {
          "model_module": "@jupyter-widgets/controls",
          "model_name": "DescriptionStyleModel",
          "model_module_version": "1.5.0",
          "state": {
            "_model_module": "@jupyter-widgets/controls",
            "_model_module_version": "1.5.0",
            "_model_name": "DescriptionStyleModel",
            "_view_count": null,
            "_view_module": "@jupyter-widgets/base",
            "_view_module_version": "1.2.0",
            "_view_name": "StyleView",
            "description_width": ""
          }
        },
        "121e02e12cc9414388898668245cfb9d": {
          "model_module": "@jupyter-widgets/base",
          "model_name": "LayoutModel",
          "model_module_version": "1.2.0",
          "state": {
            "_model_module": "@jupyter-widgets/base",
            "_model_module_version": "1.2.0",
            "_model_name": "LayoutModel",
            "_view_count": null,
            "_view_module": "@jupyter-widgets/base",
            "_view_module_version": "1.2.0",
            "_view_name": "LayoutView",
            "align_content": null,
            "align_items": null,
            "align_self": null,
            "border": null,
            "bottom": null,
            "display": null,
            "flex": null,
            "flex_flow": null,
            "grid_area": null,
            "grid_auto_columns": null,
            "grid_auto_flow": null,
            "grid_auto_rows": null,
            "grid_column": null,
            "grid_gap": null,
            "grid_row": null,
            "grid_template_areas": null,
            "grid_template_columns": null,
            "grid_template_rows": null,
            "height": null,
            "justify_content": null,
            "justify_items": null,
            "left": null,
            "margin": null,
            "max_height": null,
            "max_width": null,
            "min_height": null,
            "min_width": null,
            "object_fit": null,
            "object_position": null,
            "order": null,
            "overflow": null,
            "overflow_x": null,
            "overflow_y": null,
            "padding": null,
            "right": null,
            "top": null,
            "visibility": null,
            "width": null
          }
        },
        "5367f97fcec445aeb2d032b23fd9599c": {
          "model_module": "@jupyter-widgets/controls",
          "model_name": "ProgressStyleModel",
          "model_module_version": "1.5.0",
          "state": {
            "_model_module": "@jupyter-widgets/controls",
            "_model_module_version": "1.5.0",
            "_model_name": "ProgressStyleModel",
            "_view_count": null,
            "_view_module": "@jupyter-widgets/base",
            "_view_module_version": "1.2.0",
            "_view_name": "StyleView",
            "bar_color": null,
            "description_width": ""
          }
        },
        "28afee5859cf4d808bc4159d40a72131": {
          "model_module": "@jupyter-widgets/base",
          "model_name": "LayoutModel",
          "model_module_version": "1.2.0",
          "state": {
            "_model_module": "@jupyter-widgets/base",
            "_model_module_version": "1.2.0",
            "_model_name": "LayoutModel",
            "_view_count": null,
            "_view_module": "@jupyter-widgets/base",
            "_view_module_version": "1.2.0",
            "_view_name": "LayoutView",
            "align_content": null,
            "align_items": null,
            "align_self": null,
            "border": null,
            "bottom": null,
            "display": null,
            "flex": null,
            "flex_flow": null,
            "grid_area": null,
            "grid_auto_columns": null,
            "grid_auto_flow": null,
            "grid_auto_rows": null,
            "grid_column": null,
            "grid_gap": null,
            "grid_row": null,
            "grid_template_areas": null,
            "grid_template_columns": null,
            "grid_template_rows": null,
            "height": null,
            "justify_content": null,
            "justify_items": null,
            "left": null,
            "margin": null,
            "max_height": null,
            "max_width": null,
            "min_height": null,
            "min_width": null,
            "object_fit": null,
            "object_position": null,
            "order": null,
            "overflow": null,
            "overflow_x": null,
            "overflow_y": null,
            "padding": null,
            "right": null,
            "top": null,
            "visibility": null,
            "width": null
          }
        },
        "77fc605413f3418fbed03729562b8f5b": {
          "model_module": "@jupyter-widgets/controls",
          "model_name": "DescriptionStyleModel",
          "model_module_version": "1.5.0",
          "state": {
            "_model_module": "@jupyter-widgets/controls",
            "_model_module_version": "1.5.0",
            "_model_name": "DescriptionStyleModel",
            "_view_count": null,
            "_view_module": "@jupyter-widgets/base",
            "_view_module_version": "1.2.0",
            "_view_name": "StyleView",
            "description_width": ""
          }
        },
        "bcb460175961412cb9c4f1316ed255d0": {
          "model_module": "@jupyter-widgets/controls",
          "model_name": "HBoxModel",
          "model_module_version": "1.5.0",
          "state": {
            "_dom_classes": [],
            "_model_module": "@jupyter-widgets/controls",
            "_model_module_version": "1.5.0",
            "_model_name": "HBoxModel",
            "_view_count": null,
            "_view_module": "@jupyter-widgets/controls",
            "_view_module_version": "1.5.0",
            "_view_name": "HBoxView",
            "box_style": "",
            "children": [
              "IPY_MODEL_08e66bca40e44297bf16a1a3f08903e3",
              "IPY_MODEL_dec8dfe4ec6f4aa7bf2e7c6febd7af59",
              "IPY_MODEL_2c01fa3972184503b4f8e8c4ce80529b"
            ],
            "layout": "IPY_MODEL_98a1a1a3e1214bfc81812c128c79c4bb"
          }
        },
        "08e66bca40e44297bf16a1a3f08903e3": {
          "model_module": "@jupyter-widgets/controls",
          "model_name": "HTMLModel",
          "model_module_version": "1.5.0",
          "state": {
            "_dom_classes": [],
            "_model_module": "@jupyter-widgets/controls",
            "_model_module_version": "1.5.0",
            "_model_name": "HTMLModel",
            "_view_count": null,
            "_view_module": "@jupyter-widgets/controls",
            "_view_module_version": "1.5.0",
            "_view_name": "HTMLView",
            "description": "",
            "description_tooltip": null,
            "layout": "IPY_MODEL_c2015df4b715441c8afbd68c66f42da7",
            "placeholder": "​",
            "style": "IPY_MODEL_09aea73adab04f489c7decac4b3d656d",
            "value": "special_tokens_map.json: 100%"
          }
        },
        "dec8dfe4ec6f4aa7bf2e7c6febd7af59": {
          "model_module": "@jupyter-widgets/controls",
          "model_name": "FloatProgressModel",
          "model_module_version": "1.5.0",
          "state": {
            "_dom_classes": [],
            "_model_module": "@jupyter-widgets/controls",
            "_model_module_version": "1.5.0",
            "_model_name": "FloatProgressModel",
            "_view_count": null,
            "_view_module": "@jupyter-widgets/controls",
            "_view_module_version": "1.5.0",
            "_view_name": "ProgressView",
            "bar_style": "success",
            "description": "",
            "description_tooltip": null,
            "layout": "IPY_MODEL_70f085ca44b44f129438660ae5abc48d",
            "max": 237,
            "min": 0,
            "orientation": "horizontal",
            "style": "IPY_MODEL_dcbc226bb03841f4907c6af9c3dec836",
            "value": 237
          }
        },
        "2c01fa3972184503b4f8e8c4ce80529b": {
          "model_module": "@jupyter-widgets/controls",
          "model_name": "HTMLModel",
          "model_module_version": "1.5.0",
          "state": {
            "_dom_classes": [],
            "_model_module": "@jupyter-widgets/controls",
            "_model_module_version": "1.5.0",
            "_model_name": "HTMLModel",
            "_view_count": null,
            "_view_module": "@jupyter-widgets/controls",
            "_view_module_version": "1.5.0",
            "_view_name": "HTMLView",
            "description": "",
            "description_tooltip": null,
            "layout": "IPY_MODEL_02fb76b524ad443e9eabc0a15c8f0280",
            "placeholder": "​",
            "style": "IPY_MODEL_4b34069c244f420cb75cc475abfaa02c",
            "value": " 237/237 [00:00&lt;00:00, 20.1kB/s]"
          }
        },
        "98a1a1a3e1214bfc81812c128c79c4bb": {
          "model_module": "@jupyter-widgets/base",
          "model_name": "LayoutModel",
          "model_module_version": "1.2.0",
          "state": {
            "_model_module": "@jupyter-widgets/base",
            "_model_module_version": "1.2.0",
            "_model_name": "LayoutModel",
            "_view_count": null,
            "_view_module": "@jupyter-widgets/base",
            "_view_module_version": "1.2.0",
            "_view_name": "LayoutView",
            "align_content": null,
            "align_items": null,
            "align_self": null,
            "border": null,
            "bottom": null,
            "display": null,
            "flex": null,
            "flex_flow": null,
            "grid_area": null,
            "grid_auto_columns": null,
            "grid_auto_flow": null,
            "grid_auto_rows": null,
            "grid_column": null,
            "grid_gap": null,
            "grid_row": null,
            "grid_template_areas": null,
            "grid_template_columns": null,
            "grid_template_rows": null,
            "height": null,
            "justify_content": null,
            "justify_items": null,
            "left": null,
            "margin": null,
            "max_height": null,
            "max_width": null,
            "min_height": null,
            "min_width": null,
            "object_fit": null,
            "object_position": null,
            "order": null,
            "overflow": null,
            "overflow_x": null,
            "overflow_y": null,
            "padding": null,
            "right": null,
            "top": null,
            "visibility": null,
            "width": null
          }
        },
        "c2015df4b715441c8afbd68c66f42da7": {
          "model_module": "@jupyter-widgets/base",
          "model_name": "LayoutModel",
          "model_module_version": "1.2.0",
          "state": {
            "_model_module": "@jupyter-widgets/base",
            "_model_module_version": "1.2.0",
            "_model_name": "LayoutModel",
            "_view_count": null,
            "_view_module": "@jupyter-widgets/base",
            "_view_module_version": "1.2.0",
            "_view_name": "LayoutView",
            "align_content": null,
            "align_items": null,
            "align_self": null,
            "border": null,
            "bottom": null,
            "display": null,
            "flex": null,
            "flex_flow": null,
            "grid_area": null,
            "grid_auto_columns": null,
            "grid_auto_flow": null,
            "grid_auto_rows": null,
            "grid_column": null,
            "grid_gap": null,
            "grid_row": null,
            "grid_template_areas": null,
            "grid_template_columns": null,
            "grid_template_rows": null,
            "height": null,
            "justify_content": null,
            "justify_items": null,
            "left": null,
            "margin": null,
            "max_height": null,
            "max_width": null,
            "min_height": null,
            "min_width": null,
            "object_fit": null,
            "object_position": null,
            "order": null,
            "overflow": null,
            "overflow_x": null,
            "overflow_y": null,
            "padding": null,
            "right": null,
            "top": null,
            "visibility": null,
            "width": null
          }
        },
        "09aea73adab04f489c7decac4b3d656d": {
          "model_module": "@jupyter-widgets/controls",
          "model_name": "DescriptionStyleModel",
          "model_module_version": "1.5.0",
          "state": {
            "_model_module": "@jupyter-widgets/controls",
            "_model_module_version": "1.5.0",
            "_model_name": "DescriptionStyleModel",
            "_view_count": null,
            "_view_module": "@jupyter-widgets/base",
            "_view_module_version": "1.2.0",
            "_view_name": "StyleView",
            "description_width": ""
          }
        },
        "70f085ca44b44f129438660ae5abc48d": {
          "model_module": "@jupyter-widgets/base",
          "model_name": "LayoutModel",
          "model_module_version": "1.2.0",
          "state": {
            "_model_module": "@jupyter-widgets/base",
            "_model_module_version": "1.2.0",
            "_model_name": "LayoutModel",
            "_view_count": null,
            "_view_module": "@jupyter-widgets/base",
            "_view_module_version": "1.2.0",
            "_view_name": "LayoutView",
            "align_content": null,
            "align_items": null,
            "align_self": null,
            "border": null,
            "bottom": null,
            "display": null,
            "flex": null,
            "flex_flow": null,
            "grid_area": null,
            "grid_auto_columns": null,
            "grid_auto_flow": null,
            "grid_auto_rows": null,
            "grid_column": null,
            "grid_gap": null,
            "grid_row": null,
            "grid_template_areas": null,
            "grid_template_columns": null,
            "grid_template_rows": null,
            "height": null,
            "justify_content": null,
            "justify_items": null,
            "left": null,
            "margin": null,
            "max_height": null,
            "max_width": null,
            "min_height": null,
            "min_width": null,
            "object_fit": null,
            "object_position": null,
            "order": null,
            "overflow": null,
            "overflow_x": null,
            "overflow_y": null,
            "padding": null,
            "right": null,
            "top": null,
            "visibility": null,
            "width": null
          }
        },
        "dcbc226bb03841f4907c6af9c3dec836": {
          "model_module": "@jupyter-widgets/controls",
          "model_name": "ProgressStyleModel",
          "model_module_version": "1.5.0",
          "state": {
            "_model_module": "@jupyter-widgets/controls",
            "_model_module_version": "1.5.0",
            "_model_name": "ProgressStyleModel",
            "_view_count": null,
            "_view_module": "@jupyter-widgets/base",
            "_view_module_version": "1.2.0",
            "_view_name": "StyleView",
            "bar_color": null,
            "description_width": ""
          }
        },
        "02fb76b524ad443e9eabc0a15c8f0280": {
          "model_module": "@jupyter-widgets/base",
          "model_name": "LayoutModel",
          "model_module_version": "1.2.0",
          "state": {
            "_model_module": "@jupyter-widgets/base",
            "_model_module_version": "1.2.0",
            "_model_name": "LayoutModel",
            "_view_count": null,
            "_view_module": "@jupyter-widgets/base",
            "_view_module_version": "1.2.0",
            "_view_name": "LayoutView",
            "align_content": null,
            "align_items": null,
            "align_self": null,
            "border": null,
            "bottom": null,
            "display": null,
            "flex": null,
            "flex_flow": null,
            "grid_area": null,
            "grid_auto_columns": null,
            "grid_auto_flow": null,
            "grid_auto_rows": null,
            "grid_column": null,
            "grid_gap": null,
            "grid_row": null,
            "grid_template_areas": null,
            "grid_template_columns": null,
            "grid_template_rows": null,
            "height": null,
            "justify_content": null,
            "justify_items": null,
            "left": null,
            "margin": null,
            "max_height": null,
            "max_width": null,
            "min_height": null,
            "min_width": null,
            "object_fit": null,
            "object_position": null,
            "order": null,
            "overflow": null,
            "overflow_x": null,
            "overflow_y": null,
            "padding": null,
            "right": null,
            "top": null,
            "visibility": null,
            "width": null
          }
        },
        "4b34069c244f420cb75cc475abfaa02c": {
          "model_module": "@jupyter-widgets/controls",
          "model_name": "DescriptionStyleModel",
          "model_module_version": "1.5.0",
          "state": {
            "_model_module": "@jupyter-widgets/controls",
            "_model_module_version": "1.5.0",
            "_model_name": "DescriptionStyleModel",
            "_view_count": null,
            "_view_module": "@jupyter-widgets/base",
            "_view_module_version": "1.2.0",
            "_view_name": "StyleView",
            "description_width": ""
          }
        },
        "926bdd973e67443098452d13af5e230e": {
          "model_module": "@jupyter-widgets/controls",
          "model_name": "HBoxModel",
          "model_module_version": "1.5.0",
          "state": {
            "_dom_classes": [],
            "_model_module": "@jupyter-widgets/controls",
            "_model_module_version": "1.5.0",
            "_model_name": "HBoxModel",
            "_view_count": null,
            "_view_module": "@jupyter-widgets/controls",
            "_view_module_version": "1.5.0",
            "_view_name": "HBoxView",
            "box_style": "",
            "children": [
              "IPY_MODEL_cb754a72f44d4a30a90900d1c9eec34d",
              "IPY_MODEL_e558ad4e43304db7a6cabb7cce1e15a6",
              "IPY_MODEL_50f7b04c797d4f47a7271614507dab36"
            ],
            "layout": "IPY_MODEL_0cd2e3a5a5f743b3bedb0daf02a346cf"
          }
        },
        "cb754a72f44d4a30a90900d1c9eec34d": {
          "model_module": "@jupyter-widgets/controls",
          "model_name": "HTMLModel",
          "model_module_version": "1.5.0",
          "state": {
            "_dom_classes": [],
            "_model_module": "@jupyter-widgets/controls",
            "_model_module_version": "1.5.0",
            "_model_name": "HTMLModel",
            "_view_count": null,
            "_view_module": "@jupyter-widgets/controls",
            "_view_module_version": "1.5.0",
            "_view_name": "HTMLView",
            "description": "",
            "description_tooltip": null,
            "layout": "IPY_MODEL_5e8ab5d1bd1b470a992d416062a4c6a1",
            "placeholder": "​",
            "style": "IPY_MODEL_fe36e72e46ea4522839feead3f7f0b86",
            "value": "Map (num_proc=4): 100%"
          }
        },
        "e558ad4e43304db7a6cabb7cce1e15a6": {
          "model_module": "@jupyter-widgets/controls",
          "model_name": "FloatProgressModel",
          "model_module_version": "1.5.0",
          "state": {
            "_dom_classes": [],
            "_model_module": "@jupyter-widgets/controls",
            "_model_module_version": "1.5.0",
            "_model_name": "FloatProgressModel",
            "_view_count": null,
            "_view_module": "@jupyter-widgets/controls",
            "_view_module_version": "1.5.0",
            "_view_name": "ProgressView",
            "bar_style": "success",
            "description": "",
            "description_tooltip": null,
            "layout": "IPY_MODEL_b534b3db13414eae8cbadb990f59663f",
            "max": 10000,
            "min": 0,
            "orientation": "horizontal",
            "style": "IPY_MODEL_63934b1042b24ad485274f3b8963bd33",
            "value": 10000
          }
        },
        "50f7b04c797d4f47a7271614507dab36": {
          "model_module": "@jupyter-widgets/controls",
          "model_name": "HTMLModel",
          "model_module_version": "1.5.0",
          "state": {
            "_dom_classes": [],
            "_model_module": "@jupyter-widgets/controls",
            "_model_module_version": "1.5.0",
            "_model_name": "HTMLModel",
            "_view_count": null,
            "_view_module": "@jupyter-widgets/controls",
            "_view_module_version": "1.5.0",
            "_view_name": "HTMLView",
            "description": "",
            "description_tooltip": null,
            "layout": "IPY_MODEL_99fc450ed50d4e6ca49812cf991269fa",
            "placeholder": "​",
            "style": "IPY_MODEL_6638cafcbedd4e4daf07f949b929b10f",
            "value": " 10000/10000 [00:00&lt;00:00, 21369.63 examples/s]"
          }
        },
        "0cd2e3a5a5f743b3bedb0daf02a346cf": {
          "model_module": "@jupyter-widgets/base",
          "model_name": "LayoutModel",
          "model_module_version": "1.2.0",
          "state": {
            "_model_module": "@jupyter-widgets/base",
            "_model_module_version": "1.2.0",
            "_model_name": "LayoutModel",
            "_view_count": null,
            "_view_module": "@jupyter-widgets/base",
            "_view_module_version": "1.2.0",
            "_view_name": "LayoutView",
            "align_content": null,
            "align_items": null,
            "align_self": null,
            "border": null,
            "bottom": null,
            "display": null,
            "flex": null,
            "flex_flow": null,
            "grid_area": null,
            "grid_auto_columns": null,
            "grid_auto_flow": null,
            "grid_auto_rows": null,
            "grid_column": null,
            "grid_gap": null,
            "grid_row": null,
            "grid_template_areas": null,
            "grid_template_columns": null,
            "grid_template_rows": null,
            "height": null,
            "justify_content": null,
            "justify_items": null,
            "left": null,
            "margin": null,
            "max_height": null,
            "max_width": null,
            "min_height": null,
            "min_width": null,
            "object_fit": null,
            "object_position": null,
            "order": null,
            "overflow": null,
            "overflow_x": null,
            "overflow_y": null,
            "padding": null,
            "right": null,
            "top": null,
            "visibility": null,
            "width": null
          }
        },
        "5e8ab5d1bd1b470a992d416062a4c6a1": {
          "model_module": "@jupyter-widgets/base",
          "model_name": "LayoutModel",
          "model_module_version": "1.2.0",
          "state": {
            "_model_module": "@jupyter-widgets/base",
            "_model_module_version": "1.2.0",
            "_model_name": "LayoutModel",
            "_view_count": null,
            "_view_module": "@jupyter-widgets/base",
            "_view_module_version": "1.2.0",
            "_view_name": "LayoutView",
            "align_content": null,
            "align_items": null,
            "align_self": null,
            "border": null,
            "bottom": null,
            "display": null,
            "flex": null,
            "flex_flow": null,
            "grid_area": null,
            "grid_auto_columns": null,
            "grid_auto_flow": null,
            "grid_auto_rows": null,
            "grid_column": null,
            "grid_gap": null,
            "grid_row": null,
            "grid_template_areas": null,
            "grid_template_columns": null,
            "grid_template_rows": null,
            "height": null,
            "justify_content": null,
            "justify_items": null,
            "left": null,
            "margin": null,
            "max_height": null,
            "max_width": null,
            "min_height": null,
            "min_width": null,
            "object_fit": null,
            "object_position": null,
            "order": null,
            "overflow": null,
            "overflow_x": null,
            "overflow_y": null,
            "padding": null,
            "right": null,
            "top": null,
            "visibility": null,
            "width": null
          }
        },
        "fe36e72e46ea4522839feead3f7f0b86": {
          "model_module": "@jupyter-widgets/controls",
          "model_name": "DescriptionStyleModel",
          "model_module_version": "1.5.0",
          "state": {
            "_model_module": "@jupyter-widgets/controls",
            "_model_module_version": "1.5.0",
            "_model_name": "DescriptionStyleModel",
            "_view_count": null,
            "_view_module": "@jupyter-widgets/base",
            "_view_module_version": "1.2.0",
            "_view_name": "StyleView",
            "description_width": ""
          }
        },
        "b534b3db13414eae8cbadb990f59663f": {
          "model_module": "@jupyter-widgets/base",
          "model_name": "LayoutModel",
          "model_module_version": "1.2.0",
          "state": {
            "_model_module": "@jupyter-widgets/base",
            "_model_module_version": "1.2.0",
            "_model_name": "LayoutModel",
            "_view_count": null,
            "_view_module": "@jupyter-widgets/base",
            "_view_module_version": "1.2.0",
            "_view_name": "LayoutView",
            "align_content": null,
            "align_items": null,
            "align_self": null,
            "border": null,
            "bottom": null,
            "display": null,
            "flex": null,
            "flex_flow": null,
            "grid_area": null,
            "grid_auto_columns": null,
            "grid_auto_flow": null,
            "grid_auto_rows": null,
            "grid_column": null,
            "grid_gap": null,
            "grid_row": null,
            "grid_template_areas": null,
            "grid_template_columns": null,
            "grid_template_rows": null,
            "height": null,
            "justify_content": null,
            "justify_items": null,
            "left": null,
            "margin": null,
            "max_height": null,
            "max_width": null,
            "min_height": null,
            "min_width": null,
            "object_fit": null,
            "object_position": null,
            "order": null,
            "overflow": null,
            "overflow_x": null,
            "overflow_y": null,
            "padding": null,
            "right": null,
            "top": null,
            "visibility": null,
            "width": null
          }
        },
        "63934b1042b24ad485274f3b8963bd33": {
          "model_module": "@jupyter-widgets/controls",
          "model_name": "ProgressStyleModel",
          "model_module_version": "1.5.0",
          "state": {
            "_model_module": "@jupyter-widgets/controls",
            "_model_module_version": "1.5.0",
            "_model_name": "ProgressStyleModel",
            "_view_count": null,
            "_view_module": "@jupyter-widgets/base",
            "_view_module_version": "1.2.0",
            "_view_name": "StyleView",
            "bar_color": null,
            "description_width": ""
          }
        },
        "99fc450ed50d4e6ca49812cf991269fa": {
          "model_module": "@jupyter-widgets/base",
          "model_name": "LayoutModel",
          "model_module_version": "1.2.0",
          "state": {
            "_model_module": "@jupyter-widgets/base",
            "_model_module_version": "1.2.0",
            "_model_name": "LayoutModel",
            "_view_count": null,
            "_view_module": "@jupyter-widgets/base",
            "_view_module_version": "1.2.0",
            "_view_name": "LayoutView",
            "align_content": null,
            "align_items": null,
            "align_self": null,
            "border": null,
            "bottom": null,
            "display": null,
            "flex": null,
            "flex_flow": null,
            "grid_area": null,
            "grid_auto_columns": null,
            "grid_auto_flow": null,
            "grid_auto_rows": null,
            "grid_column": null,
            "grid_gap": null,
            "grid_row": null,
            "grid_template_areas": null,
            "grid_template_columns": null,
            "grid_template_rows": null,
            "height": null,
            "justify_content": null,
            "justify_items": null,
            "left": null,
            "margin": null,
            "max_height": null,
            "max_width": null,
            "min_height": null,
            "min_width": null,
            "object_fit": null,
            "object_position": null,
            "order": null,
            "overflow": null,
            "overflow_x": null,
            "overflow_y": null,
            "padding": null,
            "right": null,
            "top": null,
            "visibility": null,
            "width": null
          }
        },
        "6638cafcbedd4e4daf07f949b929b10f": {
          "model_module": "@jupyter-widgets/controls",
          "model_name": "DescriptionStyleModel",
          "model_module_version": "1.5.0",
          "state": {
            "_model_module": "@jupyter-widgets/controls",
            "_model_module_version": "1.5.0",
            "_model_name": "DescriptionStyleModel",
            "_view_count": null,
            "_view_module": "@jupyter-widgets/base",
            "_view_module_version": "1.2.0",
            "_view_name": "StyleView",
            "description_width": ""
          }
        },
        "37b7598d24d74658a5dd57a9b46a8dca": {
          "model_module": "@jupyter-widgets/controls",
          "model_name": "HBoxModel",
          "model_module_version": "1.5.0",
          "state": {
            "_dom_classes": [],
            "_model_module": "@jupyter-widgets/controls",
            "_model_module_version": "1.5.0",
            "_model_name": "HBoxModel",
            "_view_count": null,
            "_view_module": "@jupyter-widgets/controls",
            "_view_module_version": "1.5.0",
            "_view_name": "HBoxView",
            "box_style": "",
            "children": [
              "IPY_MODEL_960255e632ed498299329c627a7a3526",
              "IPY_MODEL_26feced07b3b42cfa7b9154006f6422a",
              "IPY_MODEL_d45a5b03bd044f00bba4669bf4049ef1"
            ],
            "layout": "IPY_MODEL_d8814cbe8c3d42c0b43c283c19fed494"
          }
        },
        "960255e632ed498299329c627a7a3526": {
          "model_module": "@jupyter-widgets/controls",
          "model_name": "HTMLModel",
          "model_module_version": "1.5.0",
          "state": {
            "_dom_classes": [],
            "_model_module": "@jupyter-widgets/controls",
            "_model_module_version": "1.5.0",
            "_model_name": "HTMLModel",
            "_view_count": null,
            "_view_module": "@jupyter-widgets/controls",
            "_view_module_version": "1.5.0",
            "_view_name": "HTMLView",
            "description": "",
            "description_tooltip": null,
            "layout": "IPY_MODEL_75a3a9903beb456288755b7f3b5cb441",
            "placeholder": "​",
            "style": "IPY_MODEL_bca410c0996d4450aaddd75c9555a886",
            "value": "Map: 100%"
          }
        },
        "26feced07b3b42cfa7b9154006f6422a": {
          "model_module": "@jupyter-widgets/controls",
          "model_name": "FloatProgressModel",
          "model_module_version": "1.5.0",
          "state": {
            "_dom_classes": [],
            "_model_module": "@jupyter-widgets/controls",
            "_model_module_version": "1.5.0",
            "_model_name": "FloatProgressModel",
            "_view_count": null,
            "_view_module": "@jupyter-widgets/controls",
            "_view_module_version": "1.5.0",
            "_view_name": "ProgressView",
            "bar_style": "success",
            "description": "",
            "description_tooltip": null,
            "layout": "IPY_MODEL_c18d50d283854f63ad2290454ecd5530",
            "max": 21829,
            "min": 0,
            "orientation": "horizontal",
            "style": "IPY_MODEL_2f2b5711b83748dd90c4d2d90f64b7cc",
            "value": 21829
          }
        },
        "d45a5b03bd044f00bba4669bf4049ef1": {
          "model_module": "@jupyter-widgets/controls",
          "model_name": "HTMLModel",
          "model_module_version": "1.5.0",
          "state": {
            "_dom_classes": [],
            "_model_module": "@jupyter-widgets/controls",
            "_model_module_version": "1.5.0",
            "_model_name": "HTMLModel",
            "_view_count": null,
            "_view_module": "@jupyter-widgets/controls",
            "_view_module_version": "1.5.0",
            "_view_name": "HTMLView",
            "description": "",
            "description_tooltip": null,
            "layout": "IPY_MODEL_50e86ee57bc04b2fa5f2325f360b4b7c",
            "placeholder": "​",
            "style": "IPY_MODEL_f1955f9617764aa58afbfdbe430ec108",
            "value": " 21829/21829 [00:16&lt;00:00, 1453.64 examples/s]"
          }
        },
        "d8814cbe8c3d42c0b43c283c19fed494": {
          "model_module": "@jupyter-widgets/base",
          "model_name": "LayoutModel",
          "model_module_version": "1.2.0",
          "state": {
            "_model_module": "@jupyter-widgets/base",
            "_model_module_version": "1.2.0",
            "_model_name": "LayoutModel",
            "_view_count": null,
            "_view_module": "@jupyter-widgets/base",
            "_view_module_version": "1.2.0",
            "_view_name": "LayoutView",
            "align_content": null,
            "align_items": null,
            "align_self": null,
            "border": null,
            "bottom": null,
            "display": null,
            "flex": null,
            "flex_flow": null,
            "grid_area": null,
            "grid_auto_columns": null,
            "grid_auto_flow": null,
            "grid_auto_rows": null,
            "grid_column": null,
            "grid_gap": null,
            "grid_row": null,
            "grid_template_areas": null,
            "grid_template_columns": null,
            "grid_template_rows": null,
            "height": null,
            "justify_content": null,
            "justify_items": null,
            "left": null,
            "margin": null,
            "max_height": null,
            "max_width": null,
            "min_height": null,
            "min_width": null,
            "object_fit": null,
            "object_position": null,
            "order": null,
            "overflow": null,
            "overflow_x": null,
            "overflow_y": null,
            "padding": null,
            "right": null,
            "top": null,
            "visibility": null,
            "width": null
          }
        },
        "75a3a9903beb456288755b7f3b5cb441": {
          "model_module": "@jupyter-widgets/base",
          "model_name": "LayoutModel",
          "model_module_version": "1.2.0",
          "state": {
            "_model_module": "@jupyter-widgets/base",
            "_model_module_version": "1.2.0",
            "_model_name": "LayoutModel",
            "_view_count": null,
            "_view_module": "@jupyter-widgets/base",
            "_view_module_version": "1.2.0",
            "_view_name": "LayoutView",
            "align_content": null,
            "align_items": null,
            "align_self": null,
            "border": null,
            "bottom": null,
            "display": null,
            "flex": null,
            "flex_flow": null,
            "grid_area": null,
            "grid_auto_columns": null,
            "grid_auto_flow": null,
            "grid_auto_rows": null,
            "grid_column": null,
            "grid_gap": null,
            "grid_row": null,
            "grid_template_areas": null,
            "grid_template_columns": null,
            "grid_template_rows": null,
            "height": null,
            "justify_content": null,
            "justify_items": null,
            "left": null,
            "margin": null,
            "max_height": null,
            "max_width": null,
            "min_height": null,
            "min_width": null,
            "object_fit": null,
            "object_position": null,
            "order": null,
            "overflow": null,
            "overflow_x": null,
            "overflow_y": null,
            "padding": null,
            "right": null,
            "top": null,
            "visibility": null,
            "width": null
          }
        },
        "bca410c0996d4450aaddd75c9555a886": {
          "model_module": "@jupyter-widgets/controls",
          "model_name": "DescriptionStyleModel",
          "model_module_version": "1.5.0",
          "state": {
            "_model_module": "@jupyter-widgets/controls",
            "_model_module_version": "1.5.0",
            "_model_name": "DescriptionStyleModel",
            "_view_count": null,
            "_view_module": "@jupyter-widgets/base",
            "_view_module_version": "1.2.0",
            "_view_name": "StyleView",
            "description_width": ""
          }
        },
        "c18d50d283854f63ad2290454ecd5530": {
          "model_module": "@jupyter-widgets/base",
          "model_name": "LayoutModel",
          "model_module_version": "1.2.0",
          "state": {
            "_model_module": "@jupyter-widgets/base",
            "_model_module_version": "1.2.0",
            "_model_name": "LayoutModel",
            "_view_count": null,
            "_view_module": "@jupyter-widgets/base",
            "_view_module_version": "1.2.0",
            "_view_name": "LayoutView",
            "align_content": null,
            "align_items": null,
            "align_self": null,
            "border": null,
            "bottom": null,
            "display": null,
            "flex": null,
            "flex_flow": null,
            "grid_area": null,
            "grid_auto_columns": null,
            "grid_auto_flow": null,
            "grid_auto_rows": null,
            "grid_column": null,
            "grid_gap": null,
            "grid_row": null,
            "grid_template_areas": null,
            "grid_template_columns": null,
            "grid_template_rows": null,
            "height": null,
            "justify_content": null,
            "justify_items": null,
            "left": null,
            "margin": null,
            "max_height": null,
            "max_width": null,
            "min_height": null,
            "min_width": null,
            "object_fit": null,
            "object_position": null,
            "order": null,
            "overflow": null,
            "overflow_x": null,
            "overflow_y": null,
            "padding": null,
            "right": null,
            "top": null,
            "visibility": null,
            "width": null
          }
        },
        "2f2b5711b83748dd90c4d2d90f64b7cc": {
          "model_module": "@jupyter-widgets/controls",
          "model_name": "ProgressStyleModel",
          "model_module_version": "1.5.0",
          "state": {
            "_model_module": "@jupyter-widgets/controls",
            "_model_module_version": "1.5.0",
            "_model_name": "ProgressStyleModel",
            "_view_count": null,
            "_view_module": "@jupyter-widgets/base",
            "_view_module_version": "1.2.0",
            "_view_name": "StyleView",
            "bar_color": null,
            "description_width": ""
          }
        },
        "50e86ee57bc04b2fa5f2325f360b4b7c": {
          "model_module": "@jupyter-widgets/base",
          "model_name": "LayoutModel",
          "model_module_version": "1.2.0",
          "state": {
            "_model_module": "@jupyter-widgets/base",
            "_model_module_version": "1.2.0",
            "_model_name": "LayoutModel",
            "_view_count": null,
            "_view_module": "@jupyter-widgets/base",
            "_view_module_version": "1.2.0",
            "_view_name": "LayoutView",
            "align_content": null,
            "align_items": null,
            "align_self": null,
            "border": null,
            "bottom": null,
            "display": null,
            "flex": null,
            "flex_flow": null,
            "grid_area": null,
            "grid_auto_columns": null,
            "grid_auto_flow": null,
            "grid_auto_rows": null,
            "grid_column": null,
            "grid_gap": null,
            "grid_row": null,
            "grid_template_areas": null,
            "grid_template_columns": null,
            "grid_template_rows": null,
            "height": null,
            "justify_content": null,
            "justify_items": null,
            "left": null,
            "margin": null,
            "max_height": null,
            "max_width": null,
            "min_height": null,
            "min_width": null,
            "object_fit": null,
            "object_position": null,
            "order": null,
            "overflow": null,
            "overflow_x": null,
            "overflow_y": null,
            "padding": null,
            "right": null,
            "top": null,
            "visibility": null,
            "width": null
          }
        },
        "f1955f9617764aa58afbfdbe430ec108": {
          "model_module": "@jupyter-widgets/controls",
          "model_name": "DescriptionStyleModel",
          "model_module_version": "1.5.0",
          "state": {
            "_model_module": "@jupyter-widgets/controls",
            "_model_module_version": "1.5.0",
            "_model_name": "DescriptionStyleModel",
            "_view_count": null,
            "_view_module": "@jupyter-widgets/base",
            "_view_module_version": "1.2.0",
            "_view_name": "StyleView",
            "description_width": ""
          }
        }
      }
    },
    "accelerator": "GPU"
  },
  "nbformat": 4,
  "nbformat_minor": 0
}